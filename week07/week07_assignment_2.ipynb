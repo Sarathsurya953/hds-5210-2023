{
  "cells": [
    {
      "cell_type": "markdown",
      "metadata": {
        "id": "21S_LGVPg9Mt"
      },
      "source": [
        "# Week 7 Assignment\n",
        "\n",
        "We've been working with different types of data structures in Python (dictionary, list, etc), how those are represented in JSON documents, and how to write code to access specific data elements. In this week's assignment, you will need to create your own JSON document to store information about yourself and the grades you've received from week 1 to week 4 and the week 6 quiz.  That is, everything you should have received a grade for.  Then you'll need to show me you know how to navigate the JSON in that file.\n",
        "\n",
        "Different from what we've done in the past, you do not have to write any functions or include any docstrings.  Just create some JSON and write some code.\n",
        "\n",
        "---"
      ]
    },
    {
      "cell_type": "markdown",
      "metadata": {
        "id": "7mOlh3dog9Mu"
      },
      "source": [
        "## 7.1 Create a JSON string\n",
        "\n",
        "Create a JSON string that contains your name, email, year you were born, all of the grades you've received back so far, and a comment about what you thought was most challenging on each of those assignments.  This can be any structure you choose, but make sure it uses a dictionary and a list, and has at least two levels of hierarchy.  That is, it can't just be one big long list."
      ]
    },
    {
      "cell_type": "markdown",
      "metadata": {
        "id": "zE1JexJRg9Mu"
      },
      "source": [
        "First, explain how your data structure is going to look..."
      ]
    },
    {
      "cell_type": "markdown",
      "metadata": {
        "id": "QBW-q7i7g9Mu"
      },
      "source": [
        "* Put your explanation here in text..."
      ]
    },
    {
      "cell_type": "markdown",
      "metadata": {
        "id": "rv3OV7gbg9Mu"
      },
      "source": [
        "Then put the actual JSON you've created inside the multiline string below..."
      ]
    },
    {
      "cell_type": "code",
      "execution_count": 20,
      "metadata": {
        "id": "kb4te7REg9Mu"
      },
      "outputs": [],
      "source": [
        "hds5210 = \"\"\"\n",
        "{ \"name\": \"Sunkara sarath surya\",\n",
        "    \"email\": \"sarath.sunkara@slu.edu\",\n",
        "    \"birth_year\": 1997,\n",
        "    \"grades\": {\n",
        "        \"Week 1\": [10, \"Challenging part: working with google collaboratory\"],\n",
        "        \"Week 2\": [9.5, \"Challenging part: \"understanding codeing part\"],\n",
        "        \"Week 3\": [10, \"Challenging part: knowing about syntax errors\"],\n",
        "        \"Week 4\": [7, \"Challenging part: dealing with Run time errors\"],\n",
        "        \"Week 6 Quiz\": [5, \"Challenging part: Time management while codeing\"]\n",
        "    }\n",
        "\n",
        "json_string = json.dumps(my_info, indent=4)\n",
        "\n",
        "print(json_string)\n",
        "    }\n",
        "\"\"\""
      ]
    },
    {
      "cell_type": "markdown",
      "metadata": {
        "id": "3H9AU5Usg9Mv"
      },
      "source": [
        "## 7.2 Do something with your JSON\n",
        "\n",
        "Now use Python code to do something with the Json above.  Turn it into English text, but make sure that you use at least one loop to access some dict or list content of your JSON.  Below, I've provided some basic code to read in the string above as JSON and return a Python object.  Your job is to work with that data structure and print out the important information like your name, email, and how you did on each assignment."
      ]
    },
    {
      "cell_type": "code",
      "execution_count": 21,
      "metadata": {
        "id": "aaHiS5gBg9Mv",
        "outputId": "3bb2bc76-ae45-442e-94ae-9912e6e334d7",
        "colab": {
          "base_uri": "https://localhost:8080/"
        }
      },
      "outputs": [
        {
          "output_type": "stream",
          "name": "stdout",
          "text": [
            "Name: Sunkara sarath surya\n",
            "Email: sarath.sunkara@slu.edu\n",
            "Year of Birth: 1997\n",
            "Assignment: Week 1\n",
            "Grade: 10\n",
            "Challenging Part: Challenging part: working with google collaboratory\n",
            "\n",
            "Assignment: Week 2\n",
            "Grade: 9.5\n",
            "Challenging Part: Challenging part: understanding coding part\n",
            "\n",
            "Assignment: Week 3\n",
            "Grade: 10\n",
            "Challenging Part: Challenging part: knowing about syntax errors\n",
            "\n",
            "Assignment: Week 4\n",
            "Grade: 7\n",
            "Challenging Part: Challenging part: dealing with runtime errors\n",
            "\n",
            "Assignment: Week 6 Quiz\n",
            "Grade: 5\n",
            "Challenging Part: Challenging part: Time management while coding\n",
            "\n"
          ]
        }
      ],
      "source": [
        "import json\n",
        "\n",
        "hds5210 = \"\"\"\n",
        "{\n",
        "    \"name\": \"Sunkara sarath surya\",\n",
        "    \"email\": \"sarath.sunkara@slu.edu\",\n",
        "    \"birth_year\": 1997,\n",
        "    \"grades\": {\n",
        "        \"Week 1\": [10, \"Challenging part: working with google collaboratory\"],\n",
        "        \"Week 2\": [9.5, \"Challenging part: understanding coding part\"],\n",
        "        \"Week 3\": [10, \"Challenging part: knowing about syntax errors\"],\n",
        "        \"Week 4\": [7, \"Challenging part: dealing with runtime errors\"],\n",
        "        \"Week 6 Quiz\": [5, \"Challenging part: Time management while coding\"]\n",
        "    }\n",
        "}\n",
        "\"\"\"\n",
        "\n",
        "info = json.loads(hds5210)\n",
        "\n",
        "name = info[\"name\"]\n",
        "email = info[\"email\"]\n",
        "year_of_birth = info[\"birth_year\"]\n",
        "grades_received = info[\"grades\"]\n",
        "\n",
        "print(f\"Name: {name}\")\n",
        "print(f\"Email: {email}\")\n",
        "print(f\"Year of Birth: {year_of_birth}\")\n",
        "\n",
        "for assignment, details in grades_received.items():\n",
        "    grade, challenging_part = details\n",
        "    print(f\"Assignment: {assignment}\")\n",
        "    print(f\"Grade: {grade}\")\n",
        "    print(f\"Challenging Part: {challenging_part}\\n\")\n"
      ]
    },
    {
      "cell_type": "markdown",
      "metadata": {
        "id": "sbeyNL1Mg9Mv"
      },
      "source": [
        "## 7.3 Reflect\n",
        "\n",
        "Write a paragraph on any reflections you have. Was this hard? Easy?  What parts were most challenging or easiest? What did you like or dislike about the assignment?  Share whatever important thoughts you have abou this."
      ]
    },
    {
      "cell_type": "markdown",
      "metadata": {
        "id": "wIMnrmk3g9Mv"
      },
      "source": [
        "This assignment was relatively easy, especially for those with Python and JSON experience. Designing the JSON structure involved nesting dictionaries and lists, which was not particularly challenging. Accessing the data was also made easier by Python's flexibility with dictionaries and lists. Using a loop to iterate through the assignment grades added a valuable element, enhancing code efficiency and versatility.* Put your response here"
      ]
    },
    {
      "cell_type": "markdown",
      "metadata": {
        "id": "CkLCSo8Ng9Mv"
      },
      "source": [
        "---\n",
        "\n",
        "# Example\n",
        "\n",
        "Below is an example of something similar, but this uses information my and my friend's kids instead of grades."
      ]
    },
    {
      "cell_type": "code",
      "execution_count": 22,
      "metadata": {
        "id": "MGpTr9bng9Mv",
        "outputId": "667db02a-d9db-4449-d987-2b99ba9ef954",
        "colab": {
          "base_uri": "https://localhost:8080/"
        }
      },
      "outputs": [
        {
          "output_type": "stream",
          "name": "stdout",
          "text": [
            "Hi, my name is Paul. I've got 3 kids. Their names are Ellie, Ada, Teddy.\n",
            "My friend, Anny has 1 kids. That's fewer than me. Their names are 1\n"
          ]
        }
      ],
      "source": [
        "hds5210 = \"\"\"\n",
        "{\n",
        "    \"me\": {\n",
        "        \"name\": \"Paul\",\n",
        "        \"kids\": [\"Ellie\", \"Ada\", \"Teddy\"]\n",
        "    },\n",
        "    \"friend\": {\n",
        "        \"name\": \"Anny\",\n",
        "        \"kids\": [\"Abby\"]\n",
        "    }\n",
        "}\n",
        "\"\"\"\n",
        "\n",
        "import json\n",
        "\n",
        "info = json.loads(hds5210)\n",
        "\n",
        "me = info[\"me\"][\"name\"]\n",
        "my_kids_count = len(info[\"me\"][\"kids\"])\n",
        "kids_list = \", \".join(info[\"me\"][\"kids\"])\n",
        "friend = info[\"friend\"][\"name\"]\n",
        "friends_kid_count = len(info[\"friend\"][\"kids\"])\n",
        "friend_kids = \", \".join(info[\"friend\"][\"kids\"])\n",
        "compare = \"more\" if friends_kid_count > my_kids_count else \"fewer\"\n",
        "\n",
        "print(f\"Hi, my name is {me}. I've got {my_kids_count} kids. Their names are {kids_list}.\")\n",
        "print(f\"My friend, {friend} has {friends_kid_count} kids. That's {compare} than me. Their names are {friends_kid_count}\")"
      ]
    }
  ],
  "metadata": {
    "kernelspec": {
      "display_name": "Python 3",
      "language": "python",
      "name": "python3"
    },
    "language_info": {
      "codemirror_mode": {
        "name": "ipython",
        "version": 3
      },
      "file_extension": ".py",
      "mimetype": "text/x-python",
      "name": "python",
      "nbconvert_exporter": "python",
      "pygments_lexer": "ipython3",
      "version": "3.9.16"
    },
    "colab": {
      "provenance": []
    }
  },
  "nbformat": 4,
  "nbformat_minor": 0
}