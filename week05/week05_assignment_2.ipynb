{
  "cells": [
    {
      "cell_type": "markdown",
      "metadata": {
        "nbgrader": {
          "grade": false,
          "grade_id": "intro",
          "locked": true,
          "schema_version": 1,
          "solution": false
        },
        "id": "J_rfy1-4GAHw"
      },
      "source": [
        "# Week 5 Exercises\n",
        "\n",
        "_McKinney 3.2_\n",
        "\n",
        "**Unlike in previous weeks, in the exercises below, you will need to create a function definition from scratch.  I'll provide specific instructions and examples for how it will be used, but you will have to do the work of definiging the whole function.**\n",
        "\n",
        "---\n",
        "---"
      ]
    },
    {
      "cell_type": "markdown",
      "metadata": {
        "nbgrader": {
          "grade": false,
          "grade_id": "longest",
          "locked": true,
          "schema_version": 1,
          "solution": false
        },
        "id": "Vkf997oGGAHx"
      },
      "source": [
        "### 25.1 Longest String\n",
        "\n",
        "Write a function called `longest (L)` that takes as its only parameter a list of strings.  Your function needs to find the longest of those strings and return the position number of that longest string.  An example is provided below:\n",
        "\n",
        "The longest word in that list of strings is \"birthday\" in position #1, so `longest(strings)` should return 1.\n",
        "```\n",
        ">>> strings = ['happy', 'birthday', 'to', 'me']\n",
        ">>> longest(strings)\n",
        "1\n",
        "```\n",
        "\n",
        "Be sure to include a docstring.  Include test cases in your docstring if you want to."
      ]
    },
    {
      "cell_type": "code",
      "execution_count": 47,
      "metadata": {
        "nbgrader": {
          "grade": false,
          "grade_id": "longest-answer",
          "locked": false,
          "schema_version": 1,
          "solution": true
        },
        "id": "3lo8zOLeGAHx"
      },
      "outputs": [],
      "source": [
        "### BEGIN SOLUTION\n",
        "def longest (strings):\n",
        "  \"\"\"(list) -> int\n",
        "  This function finds the longest string in the list of input strings\n",
        "  and returns the position number of the longest string.\n",
        "\n",
        "\n",
        "  >>> longest(['happy', 'birthday', 'to', 'me'])\n",
        "  1\n",
        "  >>> longest(['one', 'two', 'three', 'four'])\n",
        "  \"\"\"\n",
        "  longest_position = 0\n",
        "  longest_length = 0\n",
        "\n",
        "  print(\"position item longest so far\")\n",
        "  print(\"-------- ---- --------------\")\n",
        "  for position, item in enumerate(strings):\n",
        "      if len(item) > longest_length:\n",
        "         longest_position = position\n",
        "         longest_length = len(item)\n",
        "      print(\"{0:9} {1:12} {2} : {3}\".format(position, item, longest_position, longest_length))\n",
        "\n",
        "\n",
        "  return longest_position\n",
        "\n",
        "### END SOLUTION"
      ]
    },
    {
      "cell_type": "code",
      "source": [
        "longest(['happy', 'birthday', 'to', 'me'])"
      ],
      "metadata": {
        "id": "yXu784blGOtF",
        "outputId": "ae6461e6-00aa-4be1-9d25-3b1d32471332",
        "colab": {
          "base_uri": "https://localhost:8080/"
        }
      },
      "execution_count": 48,
      "outputs": [
        {
          "output_type": "stream",
          "name": "stdout",
          "text": [
            "position item longest so far\n",
            "-------- ---- --------------\n",
            "        0 happy        0 : 5\n",
            "        1 birthday     1 : 8\n",
            "        2 to           1 : 8\n",
            "        3 me           1 : 8\n"
          ]
        },
        {
          "output_type": "execute_result",
          "data": {
            "text/plain": [
              "1"
            ]
          },
          "metadata": {},
          "execution_count": 48
        }
      ]
    },
    {
      "cell_type": "code",
      "execution_count": 49,
      "metadata": {
        "nbgrader": {
          "grade": true,
          "grade_id": "longest-tests",
          "locked": true,
          "points": 10,
          "schema_version": 1,
          "solution": false
        },
        "id": "1s2u9gXuGAHy",
        "outputId": "cd4e0541-a32e-43bc-c05e-64b50591f912",
        "colab": {
          "base_uri": "https://localhost:8080/"
        }
      },
      "outputs": [
        {
          "output_type": "stream",
          "name": "stdout",
          "text": [
            "position item longest so far\n",
            "-------- ---- --------------\n",
            "        0 happy        0 : 5\n",
            "        1 birthday     1 : 8\n",
            "        2 to           1 : 8\n",
            "        3 me           1 : 8\n",
            "position item longest so far\n",
            "-------- ---- --------------\n",
            "        0 enjoy        0 : 5\n",
            "        1 class        0 : 5\n",
            "position item longest so far\n",
            "-------- ---- --------------\n",
            "        0 when         0 : 4\n",
            "        1 what         0 : 4\n",
            "        2 where        2 : 5\n",
            "        3 how          2 : 5\n",
            "        4 who          2 : 5\n"
          ]
        }
      ],
      "source": [
        "assert longest(\"happy birthday to me\".split(\" \")) == 1\n",
        "assert longest(\"enjoy class\".split(\" \")) == 0\n",
        "assert longest(['when','what','where','how','who']) == 2"
      ]
    },
    {
      "cell_type": "code",
      "execution_count": 50,
      "metadata": {
        "id": "fOyKbUxFGAHy",
        "outputId": "19340edd-1aae-40ed-9407-daf033b2fd46",
        "colab": {
          "base_uri": "https://localhost:8080/"
        }
      },
      "outputs": [
        {
          "output_type": "stream",
          "name": "stdout",
          "text": [
            "Finding tests in NoName\n",
            "Trying:\n",
            "    longest(['happy', 'birthday', 'to', 'me']) \n",
            "Expecting:\n",
            "    1\n",
            "**********************************************************************\n",
            "File \"__main__\", line 8, in NoName\n",
            "Failed example:\n",
            "    longest(['happy', 'birthday', 'to', 'me']) \n",
            "Expected:\n",
            "    1\n",
            "Got:\n",
            "    position item longest so far\n",
            "    -------- ---- --------------\n",
            "            0 happy        0 : 5\n",
            "            1 birthday     1 : 8\n",
            "            2 to           1 : 8\n",
            "            3 me           1 : 8\n",
            "    1\n",
            "Trying:\n",
            "    longest(['one', 'two', 'three', 'four']) \n",
            "Expecting nothing\n",
            "**********************************************************************\n",
            "File \"__main__\", line 10, in NoName\n",
            "Failed example:\n",
            "    longest(['one', 'two', 'three', 'four']) \n",
            "Expected nothing\n",
            "Got:\n",
            "    position item longest so far\n",
            "    -------- ---- --------------\n",
            "            0 one          0 : 3\n",
            "            1 two          0 : 3\n",
            "            2 three        2 : 5\n",
            "            3 four         2 : 5\n",
            "    2\n"
          ]
        }
      ],
      "source": [
        "import doctest\n",
        "doctest.run_docstring_examples(longest, globals(), verbose=True)"
      ]
    },
    {
      "cell_type": "markdown",
      "metadata": {
        "id": "fsStpR6pGAHy"
      },
      "source": [
        "### 25.2 Farenheit to Celsius\n",
        "\n",
        "Write a function called f_to_c() that converts a given temperature in degrees Farenheit to degrees Celsius.  If you don't recall that conversion, it is:\n",
        "\n",
        "$ temp_c = \\frac{5}{9} \\times (temp_f - 32) $\n",
        "\n",
        "Make sure that you code is well documented using the DocString examples, and that your code includes tests for 212f, 32f, and 98.6f."
      ]
    },
    {
      "cell_type": "code",
      "execution_count": 51,
      "metadata": {
        "id": "3erCfzGzGAHz"
      },
      "outputs": [],
      "source": [
        "### BEGIN SOLUTION\n",
        "def f_to_c(temp_f):\n",
        "  \"\"\"\n",
        "  converts degree fahrenheit to degree celsius.\n",
        "  parameters:\n",
        "  fahrenheit (float): Temperature in degrees fahrenheit.\n",
        "  Returns:\n",
        "  float: Temperature in degree celsius.\n",
        "\n",
        "  Examples:\n",
        "  >>> f_to_c(212)\n",
        "  100.0\n",
        "  >>> f_to_c(32)\n",
        "  0.0\n",
        "  >>> f_to_c(98.6)\n",
        "  37.0\n",
        "\n",
        "  \"\"\"\n",
        "  temp_c = 5/9 * (temp_f - 32)\n",
        "  return temp_c\n",
        "\n",
        "### END SOLUTION"
      ]
    },
    {
      "cell_type": "code",
      "execution_count": 52,
      "metadata": {
        "id": "_Eq79HnoGAHz"
      },
      "outputs": [],
      "source": [
        "assert f_to_c(212) == 100.0\n",
        "assert f_to_c(32) == 0.0\n",
        "assert f_to_c(98.6) == 37.0"
      ]
    },
    {
      "cell_type": "code",
      "execution_count": 53,
      "metadata": {
        "id": "kFsJaH8LGAHz",
        "outputId": "a52c1817-7025-47b0-f500-46f91b001783",
        "colab": {
          "base_uri": "https://localhost:8080/"
        }
      },
      "outputs": [
        {
          "output_type": "stream",
          "name": "stdout",
          "text": [
            "Finding tests in NoName\n",
            "Trying:\n",
            "    f_to_c(212)\n",
            "Expecting:\n",
            "    100.0\n",
            "ok\n",
            "Trying:\n",
            "    f_to_c(32)\n",
            "Expecting:\n",
            "    0.0\n",
            "ok\n",
            "Trying:\n",
            "    f_to_c(98.6)\n",
            "Expecting:\n",
            "    37.0\n",
            "ok\n"
          ]
        }
      ],
      "source": [
        "import doctest\n",
        "doctest.run_docstring_examples(f_to_c, globals(), verbose=True)"
      ]
    },
    {
      "cell_type": "markdown",
      "metadata": {
        "id": "ticjTF4gGAHz"
      },
      "source": [
        "### 25.3 Computing Length of Stay\n",
        "\n",
        "For this problem, we have a collection of patient enounter data stored as a Python dictionary.  The `key` for the dictionary is the **encounter ID**, a code that starts with the letter `E` followed by four numbers.  The value associated with each encounter ID is another Python dictionary.  This \"inner\" dictionary holds three items: admit date, primary diagnosis, and discharge date.  See the example in the code below.\n",
        "\n",
        "You need to write a length of stay function that computes the length of stay, in whole days, between the admit date and discharge date.  However, if the diagnosis is \"Observation\" then the length of stay should always be returned as 0 regardless of the admit and discharge dates. Your function should should take three parameters: a start date, an end date, and a diagnosis.\n",
        "\n",
        "You will find it handy to refer to this example here on how to calculate the number of days between two dates: https://stackoverflow.com/questions/151199/how-to-calculate-number-of-days-between-two-given-dates"
      ]
    },
    {
      "cell_type": "code",
      "execution_count": 54,
      "metadata": {
        "id": "N-a4-Gt8GAHz"
      },
      "outputs": [],
      "source": [
        "from datetime import date\n",
        "\n",
        "### BEGIN SOLUTION\n",
        "def los(start_date, end_date, type_of_diagnosis):\n",
        "  \"\"\"\n",
        "  Find the period of stay.\n",
        "  parameters:\n",
        "  los: takes three parameters like start date, end date and type of daignosis.\n",
        "  Returns:\n",
        "  integer: period of stay of a patient.\n",
        "\n",
        "\n",
        "  Examples:\n",
        "  >>> los(date(2019,1,3), date(2019,1,8), \"COPD\")\n",
        "  5\n",
        "  >>> los(date(2020,1,5), date(2020,1,8), \"Observation\")\n",
        "  0\n",
        "\n",
        "  \"\"\"\n",
        "\n",
        "  if type_of_diagnosis == 'Observation':\n",
        "    return 0\n",
        "  else:\n",
        "     days = (end_date - start_date).days\n",
        "\n",
        "     return days\n",
        "\n",
        "\n",
        "\n",
        "### END SOLUTION"
      ]
    },
    {
      "cell_type": "code",
      "execution_count": 55,
      "metadata": {
        "id": "1nQbA5ayGAHz"
      },
      "outputs": [],
      "source": [
        "assert los(date(2019,1,3), date(2019,1,8), \"COPD\") == 5\n",
        "assert los(date(2020,1,5), date(2020,1,8), \"Observation\") == 0"
      ]
    },
    {
      "cell_type": "code",
      "execution_count": 56,
      "metadata": {
        "id": "UR-pVVpWGAHz",
        "outputId": "a149b43a-cc1c-4c4b-9ebf-5f1fee7986b5",
        "colab": {
          "base_uri": "https://localhost:8080/"
        }
      },
      "outputs": [
        {
          "output_type": "stream",
          "name": "stdout",
          "text": [
            "Finding tests in NoName\n",
            "Trying:\n",
            "    los(date(2019,1,3), date(2019,1,8), \"COPD\")\n",
            "Expecting:\n",
            "    5\n",
            "ok\n",
            "Trying:\n",
            "    los(date(2020,1,5), date(2020,1,8), \"Observation\")\n",
            "Expecting:\n",
            "    0\n",
            "ok\n"
          ]
        }
      ],
      "source": [
        "import doctest\n",
        "doctest.run_docstring_examples(los, globals(), verbose=True)"
      ]
    },
    {
      "cell_type": "code",
      "execution_count": 57,
      "metadata": {
        "id": "4lsA5V1EGAHz",
        "outputId": "087b1df4-ecd3-4243-e293-b22516c12a1b",
        "colab": {
          "base_uri": "https://localhost:8080/"
        }
      },
      "outputs": [
        {
          "output_type": "stream",
          "name": "stdout",
          "text": [
            "5\n",
            "4\n",
            "1\n",
            "0\n",
            "0\n"
          ]
        }
      ],
      "source": [
        "encounters = {\n",
        "    \"E1234\": { \"admit\": date(2019,1,3), \"diagnosis\": \"COPD\", \"discharge\": date(2019,1,8) },\n",
        "    \"E8342\": { \"admit\": date(2019,1,5), \"diagnosis\": \"Hypertension\", \"discharge\": date(2019,1,9) },\n",
        "    \"E9231\": { \"admit\": date(2019,1,12), \"diagnosis\": \"Anxiety\", \"discharge\": date(2019,1,13) },\n",
        "    \"E8333\": { \"admit\": date(2019,1,15), \"diagnosis\": \"Observation\", \"discharge\": date(2019,1,16) },\n",
        "    \"E3342\": { \"admit\": date(2019,1,4), \"diagnosis\": \"Anxiety\", \"discharge\": date(2019,1,4)}\n",
        "}\n",
        "\n",
        "\n",
        "for encid, visit in encounters.items():\n",
        "    print(los(visit['admit'],visit['discharge'],visit['diagnosis']))\n",
        "\n",
        "# Your output should be\n",
        "# 5\n",
        "# 4\n",
        "# 1\n",
        "# 0\n",
        "# 0"
      ]
    },
    {
      "cell_type": "markdown",
      "metadata": {
        "id": "WEhq_jcsGAHz"
      },
      "source": [
        "---\n",
        "---\n",
        "\n",
        "### 25.4 Average Length of Stay\n",
        "\n",
        "Create a function called `average_los` that returns the average of the LOS for the encounters in the provided dictionary. The encounters must be a dictionary that contains dictionaries that each contain at least an admit date and a discharge date.\n",
        "    \n",
        "If the length of stay of any individual encounter is 0, then it will not be counted toward the average."
      ]
    },
    {
      "cell_type": "code",
      "execution_count": 58,
      "metadata": {
        "id": "MTDPEf4IGAH0"
      },
      "outputs": [],
      "source": [
        "\n",
        "### BEGIN SOLUTION\n",
        "def average_los(encounters):\n",
        "  \"\"\"\n",
        "  Find the average stay of the patients.\n",
        "  parameters:\n",
        "  encounters: it is a list of patients having patient details in inner list.\n",
        "  Returns:\n",
        "  integer: average period of stay of a patient.\n",
        "\n",
        "\n",
        "  Examples:\n",
        "  >>> round(average_los(encounters),2)\n",
        "  3.33\n",
        "\n",
        "  \"\"\"\n",
        "  sum = 0\n",
        "  count = 0\n",
        "\n",
        "  def los(start_date, end_date, diagnosis):\n",
        "     if diagnosis == \"Observation\":\n",
        "        return 0\n",
        "     else:\n",
        "        days = (end_date - start_date).days\n",
        "        if days > 0:\n",
        "            patient_list.append(days)\n",
        "\n",
        "\n",
        "  patient_list = []\n",
        "  for encid, visit in encounters.items():\n",
        "    los(visit['admit'], visit['discharge'], visit['diagnosis'])\n",
        "\n",
        "  total = 0\n",
        "  for i in patient_list:\n",
        "      total += i\n",
        "  avg = total/len(patient_list)\n",
        "\n",
        "  return avg\n",
        "\n",
        "\n",
        "\n",
        "### END SOLUTION"
      ]
    },
    {
      "cell_type": "code",
      "execution_count": 59,
      "metadata": {
        "id": "zvczvH8TGAH0"
      },
      "outputs": [],
      "source": [
        "from datetime import date\n",
        "encounters = {\n",
        "    \"E1234\": { \"admit\": date(2019,1,3), \"diagnosis\": \"COPD\", \"discharge\": date(2019,1,8) },\n",
        "    \"E8342\": { \"admit\": date(2019,1,5), \"diagnosis\": \"Hypertension\", \"discharge\": date(2019,1,9) },\n",
        "    \"E9231\": { \"admit\": date(2019,1,12), \"diagnosis\": \"Anxiety\", \"discharge\": date(2019,1,13) },\n",
        "    \"E8333\": { \"admit\": date(2019,1,15), \"diagnosis\": \"Observation\", \"discharge\": date(2019,1,16) },\n",
        "    \"E3342\": { \"admit\": date(2019,1,4), \"diagnosis\": \"Anxiety\", \"discharge\": date(2019,1,4)}\n",
        "}\n",
        "\n",
        "assert(round(average_los(encounters),2) == 3.33)"
      ]
    },
    {
      "cell_type": "code",
      "execution_count": 41,
      "metadata": {
        "id": "11-Bly3qGAH0",
        "outputId": "8fc7b6e0-35a1-4a28-8279-9efa9da4eed1",
        "colab": {
          "base_uri": "https://localhost:8080/"
        }
      },
      "outputs": [
        {
          "output_type": "stream",
          "name": "stdout",
          "text": [
            "Finding tests in NoName\n",
            "Trying:\n",
            "    round(average_los(encounters),2)\n",
            "Expecting:\n",
            "    3.33\n",
            "ok\n"
          ]
        }
      ],
      "source": [
        "import doctest\n",
        "doctest.run_docstring_examples(average_los, globals(), verbose=True)"
      ]
    },
    {
      "cell_type": "markdown",
      "metadata": {
        "id": "BgPCBvNsGAH0"
      },
      "source": [
        "---\n",
        "\n",
        "### 25.5 Celsius to Farenheit\n",
        "\n",
        "Write your own function called `c_to_f` that converts degrees Celsius to degrees Farenheit.  Include in your solution a series of doc tests that can verify the conversion using inputs of 100, 0, and 37 degrees Celsius"
      ]
    },
    {
      "cell_type": "code",
      "execution_count": 60,
      "metadata": {
        "id": "snQiRVjtGAH0"
      },
      "outputs": [],
      "source": [
        "### BEGIN SOLUTION\n",
        "def c_to_f(temp_c):\n",
        "   \"\"\"\n",
        "   convert degree celsius to degree fahrenheit.\n",
        "   parameters:\n",
        "   celsius(float): Temperature in degree celsius.\n",
        "   Returns:\n",
        "   float: Temperature in degree fahrenheit.\n",
        "\n",
        "\n",
        "   Examples:\n",
        "   >>> c_to_f(100)\n",
        "   212.0\n",
        "   >>> c_to_f(0)\n",
        "   32.0\n",
        "   >>> c_to_f(37)\n",
        "   98.6\n",
        "\n",
        "   \"\"\"\n",
        "   temp_f = (temp_c * 9/5) + 32\n",
        "   return temp_f\n",
        "\n",
        "\n",
        "### END SOLUTION"
      ]
    },
    {
      "cell_type": "code",
      "execution_count": 61,
      "metadata": {
        "id": "EuUzWwTcGAH0",
        "outputId": "609f9920-7f40-4519-edba-40fe754dc337",
        "colab": {
          "base_uri": "https://localhost:8080/"
        }
      },
      "outputs": [
        {
          "output_type": "stream",
          "name": "stdout",
          "text": [
            "Finding tests in NoName\n",
            "Trying:\n",
            "    c_to_f(100)\n",
            "Expecting:\n",
            "    212.0\n",
            "ok\n",
            "Trying:\n",
            "    c_to_f(0)\n",
            "Expecting:\n",
            "    32.0\n",
            "ok\n",
            "Trying:\n",
            "    c_to_f(37)\n",
            "Expecting:\n",
            "    98.6\n",
            "ok\n"
          ]
        }
      ],
      "source": [
        "import doctest\n",
        "doctest.run_docstring_examples(c_to_f, globals(), verbose=True)"
      ]
    },
    {
      "cell_type": "code",
      "execution_count": null,
      "metadata": {
        "id": "x_oaVx3UGAH0"
      },
      "outputs": [],
      "source": []
    },
    {
      "cell_type": "markdown",
      "metadata": {
        "id": "wHgEmhAuGAH0"
      },
      "source": [
        "---\n",
        "\n",
        "## Check your work above\n",
        "\n",
        "If you didn't get them all correct, take a few minutes to think through those that aren't correct.\n",
        "\n",
        "\n",
        "## Submitting Your Work\n",
        "\n",
        "In order to submit your work, you'll need to use the `git` command line program to **add** your homework file (this file) to your local repository, **commit** your changes to your local repository, and then **push** those changes up to github.com.  From there, I'll be able to **pull** the changes down and do my grading.  I'll provide some feedback, **commit** and **push** my comments back to you.  Next week, I'll show you how to **pull** down my comments.\n",
        "\n",
        "First run through everything one last time and submit your work:\n",
        "1. Use the `Kernel` -> `Restart Kernel and Run All Cells` menu option to run everything from top to bottom and stop here.\n",
        "2. Then open a new command line by clicking the `+` icon above the file list and chosing `Terminal`\n",
        "3. At the command line in the new Terminal, follow these steps:\n",
        "  1. Change directories to your project folder and the week03 subfolder (`cd <folder name>`)\n",
        "  2. Make sure your project folders are up to date with github.com (`git pull`)\n",
        "  3. Add the homework files for this week (`git add <file name>`)\n",
        "  4. Commit your changes (`git commit -a -m \"message\"`)\n",
        "  5. Push your changes (`git push`)\n",
        "  \n",
        "If anything fails along the way with this submission part of the process, let me know.  I'll help you troubleshoort."
      ]
    }
  ],
  "metadata": {
    "celltoolbar": "Create Assignment",
    "kernelspec": {
      "display_name": "Python 3",
      "language": "python",
      "name": "python3"
    },
    "language_info": {
      "codemirror_mode": {
        "name": "ipython",
        "version": 3
      },
      "file_extension": ".py",
      "mimetype": "text/x-python",
      "name": "python",
      "nbconvert_exporter": "python",
      "pygments_lexer": "ipython3",
      "version": "3.6.7"
    },
    "colab": {
      "provenance": []
    }
  },
  "nbformat": 4,
  "nbformat_minor": 0
}