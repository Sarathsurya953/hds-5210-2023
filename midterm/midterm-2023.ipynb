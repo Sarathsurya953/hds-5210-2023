{
  "cells": [
    {
      "cell_type": "markdown",
      "metadata": {
        "id": "Odgw-qDLlgor"
      },
      "source": [
        "# HDS5210-2022 Midterm\n",
        "\n",
        "In the midterm, you're going to use all the programming and data management skills you've developed so far to build a risk calculator that pretends to be integrated with a clinical registry.  You'll compute the PRIEST COVID-19 Clinical Severity Score for a series of patients and, based on their risk of an adverse outcome, query a REST web service to find a hospital to transfer them to. The end result of your work will be a list of instructions on where each patient should be discharged given their risk and various characteristics of the patient.\n",
        "\n",
        "Each step in the midterm will build up to form your complete solution.\n",
        "\n",
        "**Make sure you write good docstrings and doctests along the way!!**\n",
        "\n",
        "**The midterm is due at 11:59 PM CST on Monday, October 23rd.**\n",
        "\n",
        "---"
      ]
    },
    {
      "cell_type": "markdown",
      "metadata": {
        "id": "KzRWmC2Jlgos"
      },
      "source": [
        "## Step 1: Calculate PRIEST Clinical Severity Score\n",
        "\n",
        "This scoring algorithm can be found [here on the MDCalc website](https://www.mdcalc.com/priest-covid-19-clinical-severity-score#evidence).  \n",
        "\n",
        "1. You will need to write a function called **priest()** with the following input parameters.  \n",
        " * Sex (Gender assigned at birth)\n",
        " * Age in years\n",
        " * Respiratory rate in breaths per minute\n",
        " * Oxygen saturation as a percent between 0 and 1\n",
        " * Heart rate in beats per minute\n",
        " * Systolic BP in mmHg\n",
        " * Temperature in degrees C\n",
        " * Alertness as a string description\n",
        " * Inspired Oxygen as as string description\n",
        " * Performance Status as a string description\n",
        "2. The function will need to follow the algorithm provided on the MDCalc website to compute a risk percentage that should be returned as a numeric value between 0 and 1.\n",
        "3. Be sure to use docstring documentation and at least three built-in docstring test cases.\n",
        "4. Assume that the input values that are strings could be any combination of upper or lower case. For example: 'male', 'Male', 'MALE', 'MalE' should all be interpretted by your code as male.\n",
        "5. If any of the inputs are invalid (for example a sex value that is not recognizable as male or female) your code should return None.\n",
        "\n",
        "NOTES:\n",
        "1. In the final step there is a table that translates from **PRIEST Score** to **30-day probability of an outcome** but the last two probabilities are shown as ranges (59-88% and >99%).  Our code needs to output a single number, however. For our code, use the following rule:\n",
        " * If PRIEST score is between 17 and 25, the probability you return should be 0.59\n",
        " * If PRIEST score is greater than or equal to 26, the probability you return should be 0.99\n"
      ]
    },
    {
      "cell_type": "code",
      "execution_count": 92,
      "metadata": {
        "id": "iinv7DPplgos"
      },
      "outputs": [],
      "source": [
        "def priest(sex, age, resp_rate, o2_sat, heart_rate, sys_bp, temperature, alertness, inspired_oxygen, performance_status):\n",
        "    \"\"\"\n",
        "    Examples:\n",
        "    >>> priest('FEMALE', 40, 23, 0.96, 38, 115, 36.3, 'Alert', 'Air', 'Unrestricted normal activity')\n",
        "    0.09\n",
        "\n",
        "    >>> priest('Male', 18, 22, 0.95, 105, 115, 36.3, 'Confused or not alert', 'air', 'Unrestricted normal activity')\n",
        "    0.22\n",
        "\n",
        "    >>> priest('Unknown', 70, 26, 0.88, 70, 160, 40, 'Awake', 'Non-Invasive', 'Limited self-care') is None\n",
        "    True\n",
        "    \"\"\"\n",
        "    # Checking for unknown values\n",
        "    if \"Unknown\" in (sex, alertness, inspired_oxygen, performance_status):\n",
        "        return None\n",
        "    # Age score calculation\n",
        "    if 16 <= age <= 49:age_score = 0\n",
        "    elif 50 <= age <= 65:age_score = 2\n",
        "    elif 66 <= age <= 80:age_score = 3\n",
        "    else:age_score = 4\n",
        "    # Respiratory rate score calculation\n",
        "    if resp_rate < 9:resp_rate_score = 3\n",
        "    elif 9 <= resp_rate <= 11:resp_rate_score = 1\n",
        "    elif 12 <= resp_rate <= 20:resp_rate_score = 0\n",
        "    elif 21 <= resp_rate <= 24:resp_rate_score = 2\n",
        "    else:resp_rate_score = 3\n",
        "    # Oxygen saturation score calculation\n",
        "    o2_sat = o2_sat * 100\n",
        "    if o2_sat > 95:o2_sat_score = 0\n",
        "    elif 94 <= o2_sat <= 95:o2_sat_score = 1\n",
        "    elif 92 <= o2_sat <= 93:o2_sat_score = 2\n",
        "    else:o2_sat_score = 3\n",
        "    # Heart rate score calculation\n",
        "    if heart_rate < 41:heart_rate_score = 3\n",
        "    elif 41 <= heart_rate <= 50:heart_rate_score = 1\n",
        "    elif 51 <= heart_rate <= 90:heart_rate_score = 0\n",
        "    elif 91 <= heart_rate <= 110:heart_rate_score = 1\n",
        "    elif 111 <= heart_rate <= 130:heart_rate_score = 2\n",
        "    else:heart_rate_score = 3\n",
        "\n",
        "    # Systolic blood pressure score calculation\n",
        "    if sys_bp < 91: sys_bp_score = 3\n",
        "    elif 91 <= sys_bp <= 100:sys_bp_score = 2\n",
        "    elif 101 <= sys_bp <= 110:sys_bp_score = 1\n",
        "    elif 111 <= sys_bp <=219:sys_bp_score = 0\n",
        "    else:sys_bp_score = 3\n",
        "\n",
        "    # Temperature score calculation\n",
        "    if temperature < 35.1:temp_score = 3\n",
        "    elif 35.1 <= temperature <= 36.0:temp_score = 1\n",
        "    elif 36.1 <= temperature <= 38.0:temp_score = 0\n",
        "    elif 38.1 <= temperature <= 39.0:temp_score = 1\n",
        "    else:temp_score = 2\n",
        "\n",
        "    # Convert inputs to lowercase for consistent comparison\n",
        "    alertness = alertness.lower()\n",
        "    inspired_oxygen = inspired_oxygen.lower()\n",
        "    performance_status = performance_status.lower()\n",
        "    sex = sex.lower()\n",
        "    sex_score = 0 if sex == 'female' else 1\n",
        "    alertness_score = 0 if alertness == 'alert' else 3\n",
        "    inspired_oxygen_score = 0 if inspired_oxygen == 'air' else 2\n",
        "\n",
        "    performance_mapping = {\n",
        "        'unrestricted normal activity': 0,\n",
        "        'limited strenuous activity, can do light activity': 1,\n",
        "        'limited activity, can self-care': 2,\n",
        "        'limited self-care': 3,\n",
        "    }\n",
        "\n",
        "    # Check if performance_status is in the dictionary, and if so, assign the corresponding perf_score\n",
        "    if performance_status in performance_mapping:\n",
        "        perf_score = performance_mapping[performance_status]\n",
        "    else:\n",
        "        perf_score = 4\n",
        "\n",
        "    scores = [\n",
        "        sex_score,\n",
        "        age_score,\n",
        "        resp_rate_score,\n",
        "        o2_sat_score,\n",
        "        heart_rate_score,\n",
        "        sys_bp_score,\n",
        "        temp_score,\n",
        "        alertness_score,\n",
        "        inspired_oxygen_score,\n",
        "        perf_score\n",
        "    ]\n",
        "\n",
        "    # Calculate the total PRIEST score\n",
        "    priest_score = sum(scores)\n",
        "\n",
        "    score_mapping = [\n",
        "        (0, 1, 0.01),\n",
        "        (2, 3, 0.02),\n",
        "        (4, 4, 0.03),\n",
        "        (5, 5, 0.09),\n",
        "        (6, 6, 0.15),\n",
        "        (7, 7, 0.18),\n",
        "        (8, 8, 0.22),\n",
        "        (9, 9, 0.26),\n",
        "        (10, 10, 0.29),\n",
        "        (11, 11, 0.34),\n",
        "        (12, 12, 0.38),\n",
        "        (13, 13, 0.46),\n",
        "        (14, 14, 0.47),\n",
        "        (15, 15, 0.49),\n",
        "        (16, 16, 0.55),\n",
        "        (17, 25, 0.59),\n",
        "        (26, 29, 0.99),\n",
        "    ]\n",
        "\n",
        "    for start, end, value in score_mapping:\n",
        "        if start <= priest_score <= end:\n",
        "            result = value\n",
        "            return result\n",
        "\n"
      ]
    },
    {
      "cell_type": "code",
      "execution_count": 93,
      "metadata": {
        "id": "151Cmx5Klgot",
        "outputId": "531d39f4-a1e6-470d-f091-658ba6f37d95",
        "colab": {
          "base_uri": "https://localhost:8080/"
        }
      },
      "outputs": [
        {
          "output_type": "stream",
          "name": "stdout",
          "text": [
            "Finding tests in NoName\n",
            "Trying:\n",
            "    priest('FEMALE', 40, 23, 0.96, 38, 115, 36.3, 'Alert', 'Air', 'Unrestricted normal activity')\n",
            "Expecting:\n",
            "    0.09\n",
            "ok\n",
            "Trying:\n",
            "    priest('Male', 18, 22, 0.95, 105, 115, 36.3, 'Confused or not alert', 'air', 'Unrestricted normal activity')\n",
            "Expecting:\n",
            "    0.22\n",
            "ok\n",
            "Trying:\n",
            "    priest('Unknown', 70, 26, 0.88, 70, 160, 40, 'Awake', 'Non-Invasive', 'Limited self-care') is None\n",
            "Expecting:\n",
            "    True\n",
            "ok\n"
          ]
        }
      ],
      "source": [
        "import doctest\n",
        "doctest.run_docstring_examples(priest, globals(),verbose=True)"
      ]
    },
    {
      "cell_type": "markdown",
      "metadata": {
        "id": "fR3Y26DVlgot"
      },
      "source": [
        "## Part 2: Find a hospital\n",
        "\n",
        "The next thing we have to do is figure out where to send this particular patient.  The guidelines on where to send a patient are based on their age (pediatric, adult, geriatric), sex, and risk percentage.  Luckily, you don't have to implement these rules. I already have. All you have to do is use a REST web service that I've created for you.\n",
        "\n",
        "You'll want to use Python to make a call to my REST web service similar to the example URL below. The first part of the URL will be the same for everyone and every request that you make. What you will need to modify for each of your requests is the information after the question mark.\n",
        "\n",
        "```\n",
        "https://oumdj6oci2.execute-api.us-east-1.amazonaws.com/prd/?age=40&sex=male&risk_pct=0.1\n",
        "```\n",
        "\n",
        "The example above asks my web service where a 40-year old male with a risk of 10% should go.  What the web service will return back is a JSON string containing the information you need.  That JSON will look like this:\n",
        "\n",
        "```json\n",
        "{\n",
        "  \"age\": \"40\",\n",
        "  \"sex\": \"male\",\n",
        "  \"risk\": \"0.1\",\n",
        "  \"hospital\": \"Southwest Hospital and Medical Center\"\n",
        "}\n",
        "```\n",
        "\n",
        "My function is not smart enough to understand `'MALE'` is the same as `'male'`.  You have to send it exactly `'male'` or `'female'`\n",
        "\n",
        "1. Your job is to write a function called **find_hospital()** that takes age, sex, and risk as parameters.\n",
        "2. Your function should call this REST web service using the `requests` module\n",
        "3. Then your function will need to interpret the JSON it gets and return just the name of the hospital\n",
        "4. If anything fails, return None\n",
        "5. Include a good docstring with at least three test cases.\n"
      ]
    },
    {
      "cell_type": "code",
      "execution_count": 94,
      "metadata": {
        "id": "zhdykCTHlgot"
      },
      "outputs": [],
      "source": [
        "import requests\n",
        "def find_hospital(age, gender, risk_percentage):\n",
        "    \"\"\"\n",
        "    Examples:\n",
        "    >>> find_hospital(19, 'Female', 1.0)\n",
        "    'Emory Dunwoody Medical Center'\n",
        "    >>> find_hospital(23, 'female', 0.03)\n",
        "    'Select Specialty Hospital - Northeast Atlanta'\n",
        "    >>> find_hospital(56, 'male', 0.5)\n",
        "    'Emory Dunwoody Medical Center'\n",
        "    \"\"\"\n",
        "    api_base_url = \"https://oumdj6oci2.execute-api.us-east-1.amazonaws.com/prd/\"\n",
        "    api_url = f\"{api_base_url}?age={age}&sex={gender}&risk_pct={risk_percentage}\"\n",
        "\n",
        "    try:\n",
        "        response = requests.get(api_url)\n",
        "        if response.status_code == 200:\n",
        "            data = response.json()\n",
        "            return data.get(\"hospital\")\n",
        "        else:\n",
        "            print(f\"Failed to retrieve data. Status Code: {response.status_code}\")\n",
        "    except Exception as e:\n",
        "        print(f\"An error occurred: {e}\")\n",
        "\n",
        "    return None"
      ]
    },
    {
      "cell_type": "code",
      "execution_count": 95,
      "metadata": {
        "id": "fU50ASHilgot",
        "outputId": "362775e8-c999-44c4-a349-6ae0e195281d",
        "colab": {
          "base_uri": "https://localhost:8080/"
        }
      },
      "outputs": [
        {
          "output_type": "stream",
          "name": "stdout",
          "text": [
            "Finding tests in NoName\n",
            "Trying:\n",
            "    find_hospital(19, 'Female', 1.0)\n",
            "Expecting:\n",
            "    'Emory Dunwoody Medical Center'\n",
            "ok\n",
            "Trying:\n",
            "    find_hospital(23, 'female', 0.03)\n",
            "Expecting:\n",
            "    'Select Specialty Hospital - Northeast Atlanta'\n",
            "ok\n",
            "Trying:\n",
            "    find_hospital(56, 'male', 0.5)\n",
            "Expecting:\n",
            "    'Emory Dunwoody Medical Center'\n",
            "ok\n"
          ]
        }
      ],
      "source": [
        "import doctest\n",
        "doctest.run_docstring_examples(find_hospital, globals(),verbose=True)"
      ]
    },
    {
      "cell_type": "markdown",
      "metadata": {
        "id": "0984i5ywlgot"
      },
      "source": [
        "## Part 3: Get the address for that hospital from a JSON file\n",
        "\n",
        "Great! Now we have code to tell us which hospital to send someone to... but we don't know where that hospital is. The next function we need to create is one that looks up the address of that hospital.  All of these hospitals are in Atlanta, Georgia.  We're going to use the list from this webpage to lookup the address for that hospital, based on its name.  https://www.officialusa.com/stateguides/health/hospitals/georgia.html\n",
        "\n",
        "Because we skipped the section about Beautiful Soup and working with HTML, I've converted this information into a JSON document for you.  It's available for you here.  Your code should retrieve this file using the `requests` module.\n",
        "\n",
        "`https://drive.google.com/uc?export=download&id=1fIFD-NkcdiMu941N4GjyMDWxiKsFJBw-`\n",
        "\n",
        "1. You need to create a function called **get_address()** that takes hospital name as a parameter and searches the data from this JSON file for the hospital you want to find.\n",
        "2. Your code will have to load the JSON and return the correct hospital based on name.\n",
        "3. If the hospital name isn't found, the function should return None.\n",
        "4. Be sure to use good docstring documentation and includes at least 3 test cases."
      ]
    },
    {
      "cell_type": "code",
      "execution_count": 96,
      "metadata": {
        "id": "EBpmAobslgou",
        "outputId": "eac7156f-6102-444e-f431-a13a9e8b5bd2",
        "colab": {
          "base_uri": "https://localhost:8080/"
        }
      },
      "outputs": [
        {
          "output_type": "stream",
          "name": "stdout",
          "text": [
            "Finding tests in NoName\n",
            "Trying:\n",
            "    get_hospital_address(\"Emory Dunwoody Medical Center\")\n",
            "Expecting:\n",
            "    '4500 NORTH SHALLOWFORD ROAD'\n",
            "ok\n",
            "Trying:\n",
            "    get_hospital_address(\"Select Specialty Hospital - Northeast Atlanta\")\n",
            "Expecting:\n",
            "    '1821 CLIFTON ROAD NE'\n",
            "ok\n",
            "Trying:\n",
            "    get_hospital_address(\"None\") is None\n",
            "Expecting:\n",
            "    True\n",
            "ok\n"
          ]
        }
      ],
      "source": [
        "import requests\n",
        "import json\n",
        "\n",
        "def get_hospital_address(hospital_name):\n",
        "    \"\"\"\n",
        "    Example:\n",
        "    >>> get_hospital_address(\"Emory Dunwoody Medical Center\")\n",
        "    '4500 NORTH SHALLOWFORD ROAD'\n",
        "\n",
        "    >>> get_hospital_address(\"Select Specialty Hospital - Northeast Atlanta\")\n",
        "    '1821 CLIFTON ROAD NE'\n",
        "\n",
        "    >>> get_hospital_address(\"None\") is None\n",
        "    True\n",
        "    \"\"\"\n",
        "    try:\n",
        "        # Retrieve the JSON data from the provided URL\n",
        "        json_base_url = \"https://drive.google.com/uc?export=download&id=1fIFD-NkcdiMu941N4GjyMDWxiKsFJBw-\"\n",
        "        response = requests.get(json_base_url)\n",
        "\n",
        "        if response.status_code == 200:\n",
        "            hospital_data = json.loads(response.text)\n",
        "            hospital_name = hospital_name.upper()\n",
        "\n",
        "            # Check if the hospital name exists in the JSON data\n",
        "            if hospital_name in hospital_data:\n",
        "                hospital_info = hospital_data[hospital_name]\n",
        "                address = hospital_info.get(\"ADDRESS\")\n",
        "\n",
        "                formatted_address = f\"{address}\"\n",
        "                return formatted_address\n",
        "\n",
        "        return None\n",
        "\n",
        "    except Exception as e:\n",
        "        return 'Error occurred while retrieving hospital data'\n",
        "\n",
        "import doctest\n",
        "doctest.run_docstring_examples(get_hospital_address, globals(), verbose=True)\n"
      ]
    },
    {
      "cell_type": "markdown",
      "metadata": {
        "id": "X54I-8rElgou"
      },
      "source": [
        "## Part 4: Run the risk calculator on a population\n",
        "\n",
        "At the link below, there is a file called `people.psv`.  It is a pipe-delimited (`|`) file with columns that match the inputs for the PRIEST calculation above.  Your code should use the `requests` module to retrieve the file from this URL.\n",
        "\n",
        "`https://drive.google.com/uc?export=download&id=1fLxJN9YGUqmqExrilxSS8furwUER5HHh`\n",
        "\n",
        "\n",
        "In addition, the file has a patient identifier in the first column.\n",
        "\n",
        "1. Write a function called **process_people()** that takes the file location above as its only parameter. Your Python program should use your code above to process all of these rows, determine the hospital and address, and return a list whose items are a dictionary like this: `{ patient_number: [sex, age, breath, o2sat, heart, systolic, temp, alertness, inspired, status, hospital, address]}`.  Look at the file in Part 5 for what the output looks like.\n",
        "2. Be sure to use good docstrings, but you don't need any tests in your doc strings.  I've provided those for you withe file in Part 5.\n",
        "\n",
        "\n",
        "**NOTE** that when running your code for all the 100 records in the `people.psv` file, it may take a few minutes to complete.  You're making multiple calls to the internet for each record, so that can take a little while.\n"
      ]
    },
    {
      "cell_type": "code",
      "execution_count": 97,
      "metadata": {
        "id": "b6uh_Mqwlgou",
        "outputId": "b3cb9e8d-45c0-4925-eef7-94873b62b79f",
        "colab": {
          "base_uri": "https://localhost:8080/"
        }
      },
      "outputs": [
        {
          "output_type": "stream",
          "name": "stdout",
          "text": [
            "Results saved to proceed_patient_data.json\n"
          ]
        }
      ],
      "source": [
        "def process_data(file_path):\n",
        "    try:\n",
        "        with open(file_path, \"r\") as file:\n",
        "            patient_data = file.readlines()\n",
        "        final_data = {}\n",
        "\n",
        "        # Extract the headers from the first row\n",
        "        headers = patient_data[0].strip().split('|')\n",
        "\n",
        "        for line in patient_data[1:]:\n",
        "            values = line.strip().split('|')\n",
        "            patient_number = values[0]\n",
        "            data = dict(zip(headers, values))\n",
        "\n",
        "            # Correct capitalization for 'sex' in data\n",
        "            if 'Sex' in data:\n",
        "                data['sex'] = data.pop('Sex')\n",
        "\n",
        "            age = int(data['age'])\n",
        "            sex = data['sex']\n",
        "\n",
        "            # Calculate the PRIEST score for the patient\n",
        "            priest_score = priest(\n",
        "                sex, age, float(data['breath']), float(data['o2 sat']),\n",
        "                float(data['heart']), float(data['systolic bp']),\n",
        "                float(data['temp']), data['alertness'],\n",
        "                data['inspired'], data['status']\n",
        "            )\n",
        "\n",
        "            # Find the hospital based on age, sex, and PRIEST score\n",
        "            hospital_name = find_hospital(age, sex, priest_score)\n",
        "\n",
        "            # Get the address of the hospital\n",
        "            address = get_hospital_address(hospital_name)\n",
        "\n",
        "            # Create a list with the desired format\n",
        "            patient_data = [\n",
        "                sex, age,float(data['breath']),float(data['o2 sat']),float(data['heart']),float(data['systolic bp']),float(data['temp']),data['alertness'],data['inspired'],data['status'],priest_score,hospital_name,address]\n",
        "            final_data[patient_number] = patient_data\n",
        "        return final_data\n",
        "    except Exception as e:\n",
        "        return None\n",
        "\n",
        "proceed_patient_data = process_data(\"people.psv\")\n",
        "\n",
        "if proceed_patient_data:\n",
        "    with open(\"proceed_patient_data.json\", \"w\") as file:\n",
        "        json.dump(proceed_patient_data, file, indent=2)\n",
        "    print(\"Results saved to proceed_patient_data.json\")\n",
        "else:\n",
        "    print(\"Error occurred while processing the data.\")"
      ]
    },
    {
      "cell_type": "markdown",
      "metadata": {
        "id": "dEPBQePIlgou"
      },
      "source": [
        "## Part 5: Checking your final results\n",
        "\n",
        "The final step is to check your results.  You should be able to compare your results to the output in `people_results.json` at the link below.  Write some code to check your results.  This does not need to be a function.\n",
        "\n",
        "`https://drive.google.com/uc?export=download&id=1gx1SSC20mO5XL6uYD0mdcM_cL91fcIW5`\n"
      ]
    },
    {
      "cell_type": "code",
      "execution_count": 98,
      "metadata": {
        "id": "F8i6DWQ2lgou",
        "outputId": "4ad4dfa2-b690-411b-ca9a-ba9b6e9671bb",
        "colab": {
          "base_uri": "https://localhost:8080/"
        }
      },
      "outputs": [
        {
          "output_type": "stream",
          "name": "stdout",
          "text": [
            "Requirement already satisfied: DeepDiff in /usr/local/lib/python3.10/dist-packages (6.6.1)\n",
            "Requirement already satisfied: ordered-set<4.2.0,>=4.0.2 in /usr/local/lib/python3.10/dist-packages (from DeepDiff) (4.1.0)\n"
          ]
        }
      ],
      "source": [
        "pip install DeepDiff"
      ]
    },
    {
      "cell_type": "code",
      "source": [
        "import requests\n",
        "import json\n",
        "\n",
        "# Function to download the  outcomes from the supplied Link to Google Drive\n",
        "def download_expected_results(gdrive_link, output_file):\n",
        "    response = requests.get(gdrive_link)\n",
        "    if response.status_code == 200:\n",
        "        with open(output_file, \"wb\") as file:\n",
        "            file.write(response.content)\n",
        "\n",
        "\n",
        "expected_results_link = \"https://drive.google.com/uc?export=download&id=1gx1SSC20mO5XL6uYD0mdcM_cL91fcIW5\"\n",
        "expected_results_file = \"/content/people_results.json\"\n",
        "\n",
        "\n",
        "download_expected_results(expected_results_link, expected_results_file)\n",
        "with open(\"patient_results.json\", \"r\") as your_results_file:\n",
        "    your_results = json.load(your_results_file)\n",
        "\n",
        "with open(expected_results_file, \"r\") as expected_results_file:\n",
        "    expected_results = json.load(expected_results_file)\n",
        "\n",
        "# Make sure your outcomes correspond to what was requried.\n",
        "if your_results == expected_results:\n",
        "    print(\"Your results match the expected results!\")\n",
        "else:\n",
        "    print(\"Your results do not match the expected results. Please review your code.\")\n"
      ],
      "metadata": {
        "id": "AS1FxWmQtYyG",
        "outputId": "76d61a08-47ef-4d10-952b-b4d93d82f843",
        "colab": {
          "base_uri": "https://localhost:8080/"
        }
      },
      "execution_count": 101,
      "outputs": [
        {
          "output_type": "stream",
          "name": "stdout",
          "text": [
            "Your results match the expected results!\n"
          ]
        }
      ]
    },
    {
      "cell_type": "markdown",
      "metadata": {
        "id": "5zOzGde0lgou"
      },
      "source": [
        "---\n",
        "\n",
        "## Check your work above\n",
        "\n",
        "If you didn't get them all correct, take a few minutes to think through those that aren't correct.\n",
        "\n",
        "\n",
        "## Submitting Your Work\n",
        "\n",
        "Submit your work as usual into a folder named `midterm`"
      ]
    },
    {
      "cell_type": "markdown",
      "metadata": {
        "id": "jLaSnI43lgou"
      },
      "source": [
        "---"
      ]
    }
  ],
  "metadata": {
    "kernelspec": {
      "display_name": "Python 3",
      "language": "python",
      "name": "python3"
    },
    "language_info": {
      "codemirror_mode": {
        "name": "ipython",
        "version": 3
      },
      "file_extension": ".py",
      "mimetype": "text/x-python",
      "name": "python",
      "nbconvert_exporter": "python",
      "pygments_lexer": "ipython3",
      "version": "3.9.16"
    },
    "colab": {
      "provenance": []
    }
  },
  "nbformat": 4,
  "nbformat_minor": 0
}