{
  "cells": [
    {
      "cell_type": "markdown",
      "metadata": {
        "id": "YZebjyXmsVwO"
      },
      "source": [
        "# Extra Credit\n",
        "\n",
        "For upto an additional 15 extra credit points on the midterm exam, you can write another function that applies additional criteria on top of what the midterm already did.  To earn the addition points, you need write a function called `summarize_results(patients)` to take the output of your  `process_people()` function to apply a new business rule and summarize the results.\n",
        "\n",
        "* Your function should take the dictionary created by `process_people()` as it's one input parameter: `patients`.\n",
        "* If the PRIEST probably is less than 10%, change the `hospital` and `address` to both have a value of `'Home'` indicating patients with a lower probability of an adverse outcome can just go home rather than be admitted to a hospital.\n",
        "* Summarize those results and count how many patients are now being sent to each location.  Your result should have the following format:\n",
        "```\n",
        "{\n",
        "    \"Home\": 123,\n",
        "    \"Hospital A\": 10,\n",
        "    \"Hospital B\": 20,\n",
        "    \"Hospital C\": 30\n",
        "}\n",
        "```\n",
        "\n",
        "As always, your function needs good docstrings; but does not require any doctests in this case."
      ]
    },
    {
      "cell_type": "code",
      "execution_count": 1,
      "metadata": {
        "id": "t1E1V0Z2sVwP"
      },
      "outputs": [],
      "source": [
        "def summarize_results(patients):\n",
        "    \"\"\"\n",
        "    Summarize the results based on the PRIEST probability and a new business rule.\n",
        "\n",
        "    This function takes a dictionary of patient data and applies a business rule: if the PRIEST probability is less than 10%,\n",
        "    the patient is sent home; otherwise, they are sent to a hospital. The function counts how many patients are being sent to\n",
        "    each location and returns a summary.\n",
        "\n",
        "    Parameters:\n",
        "    - patients (dict): A dictionary containing patient data where the keys are patient numbers and the values are lists\n",
        "      with patient information, including PRIEST probability, hospital name, and address.\n",
        "\n",
        "    Returns:\n",
        "    dict: A summary of the results with the format: {\"Home\": count_home, \"Hospital A\": count_A, \"Hospital B\": count_B, ...}\n",
        "\n",
        "    Example:\n",
        "    >>> patient_data = {\n",
        "    ...     \"Patient1\": ['male', 30, 22, 0.98, 75, 120, 36.7, 'Alert', 'Air', 'Unrestricted normal activity', 0.08, 'Hospital A', '123 Main St'],\n",
        "    ...     \"Patient2\": ['female', 45, 20, 0.96, 85, 130, 36.5, 'Confused or not alert', 'Oxygen', 'Limited self-care', 0.12, 'Hospital B', '456 Elm St'],\n",
        "    ...     \"Patient3\": ['male', 60, 25, 0.92, 70, 140, 37.0, 'Awake', 'Air', 'Unrestricted normal activity', 0.15, 'Hospital C', '789 Oak St'],\n",
        "    ... }\n",
        "    >>> summary = summarize_results(patient_data)\n",
        "    >>> summary\n",
        "    {'Home': 1, 'Hospital A': 1, 'Hospital B': 1, 'Hospital C': 0}\n",
        "\n",
        "    In this example, one patient is sent home, and one each to Hospital A and Hospital B.\n",
        "    \"\"\"\n",
        "    summary = {\"Home\": 0}\n",
        "    for patient_info in patients.values():\n",
        "        probability = patient_info[10]  # PRIEST probability\n",
        "        location = patient_info[11]  # Hospital name\n",
        "\n",
        "        if probability < 0.10:\n",
        "            summary[\"Home\"] += 1\n",
        "        else:\n",
        "            if location not in summary:\n",
        "                summary[location] = 1\n",
        "            else:\n",
        "                summary[location] += 1\n",
        "\n",
        "    return summary\n",
        "\n"
      ]
    },
    {
      "cell_type": "code",
      "execution_count": 1,
      "metadata": {
        "id": "M6sl94ifsVwP"
      },
      "outputs": [],
      "source": []
    }
  ],
  "metadata": {
    "kernelspec": {
      "display_name": ".venv",
      "language": "python",
      "name": "python3"
    },
    "language_info": {
      "codemirror_mode": {
        "name": "ipython",
        "version": 3
      },
      "file_extension": ".py",
      "mimetype": "text/x-python",
      "name": "python",
      "nbconvert_exporter": "python",
      "pygments_lexer": "ipython3",
      "version": "3.9.16"
    },
    "colab": {
      "provenance": []
    }
  },
  "nbformat": 4,
  "nbformat_minor": 0
}