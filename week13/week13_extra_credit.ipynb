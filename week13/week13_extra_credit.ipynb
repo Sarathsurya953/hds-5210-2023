{
  "cells": [
    {
      "cell_type": "markdown",
      "metadata": {
        "id": "25FQDuJhDUyo"
      },
      "source": [
        "# Week 13 Extra Credit - How will ChatGPT do on your final project idea?\n",
        "\n",
        "This extra credit assignment is entirely optional.  You do not need to do it.\n",
        "\n",
        "If you would like the opportunity to earn up to 5 extra credit points, complete this assignment and submit it via GitHub as normal before Monday, November 27 at 11:59 PM CST.  No late submissions will be accepted.  The file must be saved to your week13 folder in GitHub."
      ]
    },
    {
      "cell_type": "markdown",
      "metadata": {
        "id": "EVkeJRvtDUys"
      },
      "source": [
        "## Part 1: Have a conversation with ChatGPT\n",
        "\n",
        "I want you to have a conversation with ChatGPT about your final project idea.  Find out what it thinks about your idea and if it has any data sources (URLs for specific sites) that could be helpful.  Below, either include copy/paste the chat history from your conversation or include a link to the shared chat.  (ChatGPT has an [option to share a link to a specific conversation](https://help.openai.com/en/articles/7925741-chatgpt-shared-links-faq).  It's the up-arrow icon in the upper-right corner of your chat window.)\n",
        "\n",
        "Take this conversationw with ChatGPT as far as you want, but at least ask three or four follow-up questions to refine the information you're getting back.\n",
        "\n",
        "If it starts giving you links to information, don't assume they're going to work. Remember that ChatGPT isn't perfect. So, follow the links and make sure there's information there that matches what ChatGPT says you will find."
      ]
    },
    {
      "cell_type": "markdown",
      "metadata": {
        "id": "Wf017fVtDUyt"
      },
      "source": [
        "https://chat.openai.com/share/69f6cbd7-48a2-41bb-b396-4b72685cf3cf"
      ]
    },
    {
      "cell_type": "markdown",
      "metadata": {
        "id": "F3o5v4NLDUyt"
      },
      "source": [
        "### Part 2: Your reflection\n",
        "\n",
        "Below, tell me what you think ChatGPT did well or not well in your conversation.  Was it good at finding data that you needed?  Was it good at finding actual links that worked?  Did its responses make sense to you?  What did it do well / not well?\n",
        "\n",
        "Your response below should be several sentences.  If you don't have enough feedback, expand your conversation with ChatGPT.  Ask it refine your project idea or start writing code for you.  See what it can do."
      ]
    },
    {
      "cell_type": "markdown",
      "metadata": {
        "id": "-Im88RBcDUyu"
      },
      "source": [
        "During the discussion, ChatGPT performed a good job of giving clear and accurate information about the Electoral College, campaign funding, the goal of primary elections, and historical events that have affected US presidential elections. It did a good job of clarifying difficult ideas and historical events. The answers made sense in light of each question's specific context and were well-organized.In order to add a balanced viewpoint, ChatGPT also suitably brought attention to the difficulties and objections raised by some of the subjects highlighted. It included a thorough history of campaign finance and the rules governing contributions. Since my last update in January 2022, the responses have been instructive and consistent with the state of knowledge.ChatGPT cannot directly retrieve or validate real-time data, though, because it is a text-based model and does not offer live links to outside sources. The information was well-synthesised, but for the most recent updates, it's always advisable to double-check specific details from trustworthy sources.In summary, ChatGPT showed competence in conveying concepts, giving precise information, and keeping the conversation coherent. Please don’t hesitate to ask for more help if you have more specific questions or need help developing a project idea or writing code!"
      ]
    },
    {
      "cell_type": "markdown",
      "metadata": {
        "id": "yE0dzO6ODUyu"
      },
      "source": [
        "### Submitting\n",
        "\n",
        "Submit this as normal to GitHub with the name `wee13/week13_extra_credit.ipynb`"
      ]
    },
    {
      "cell_type": "markdown",
      "metadata": {
        "id": "yx0KjyQaDUyu"
      },
      "source": []
    }
  ],
  "metadata": {
    "language_info": {
      "name": "python"
    },
    "colab": {
      "provenance": []
    }
  },
  "nbformat": 4,
  "nbformat_minor": 0
}