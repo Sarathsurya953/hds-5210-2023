{
  "cells": [
    {
      "cell_type": "markdown",
      "metadata": {
        "nbgrader": {
          "grade": false,
          "grade_id": "cell-fc1c39d0d6f8b82a",
          "locked": true,
          "schema_version": 1,
          "solution": false
        },
        "id": "cwWPnUUDxJlg"
      },
      "source": [
        "# Week 13 Programming Assignment\n",
        "\n",
        "As you're working on identifying data for your final project, it's helpful to spend some time exploring your various data files.  For this week's assignment, I'd like you to take a few of the ideas from the the lectures, review assignment, and tonight's lecture to start exploring the data you plan to use for the final project.\n",
        "\n",
        "For the following activities, you can use just one of the data files that you've identified, or you can do the activities using different data files.  That's up to you.  Please describe what you're doing in a Markdown cell or in the comments of your code.  When you've completed the assignment, submit it as normal."
      ]
    },
    {
      "cell_type": "markdown",
      "metadata": {
        "id": "SRMaOgTUxJlk"
      },
      "source": [
        "### 1. Basic Statistics\n",
        "\n",
        "Use Python to read in your data file and show many rows and columns your data has."
      ]
    },
    {
      "cell_type": "code",
      "execution_count": 1,
      "metadata": {
        "id": "QQjYbW2hxJll"
      },
      "outputs": [],
      "source": [
        "import pandas as pd\n",
        "import numpy as np\n",
        "import matplotlib.pyplot as plt\n",
        "import seaborn as sns"
      ]
    },
    {
      "cell_type": "code",
      "source": [
        "Election_data = pd.read_csv('Election_results.csv')\n",
        "Election_data"
      ],
      "metadata": {
        "id": "7G5LnxntxaWt",
        "outputId": "6cfda00a-a5e4-48f7-c932-18005e69177a",
        "colab": {
          "base_uri": "https://localhost:8080/",
          "height": 617
        }
      },
      "execution_count": 3,
      "outputs": [
        {
          "output_type": "execute_result",
          "data": {
            "text/plain": [
              "       year    state state_po county_name  county_fips        office  \\\n",
              "0      2000  ALABAMA       AL     AUTAUGA       1001.0  US PRESIDENT   \n",
              "1      2000  ALABAMA       AL     AUTAUGA       1001.0  US PRESIDENT   \n",
              "2      2000  ALABAMA       AL     AUTAUGA       1001.0  US PRESIDENT   \n",
              "3      2000  ALABAMA       AL     AUTAUGA       1001.0  US PRESIDENT   \n",
              "4      2000  ALABAMA       AL     BALDWIN       1003.0  US PRESIDENT   \n",
              "...     ...      ...      ...         ...          ...           ...   \n",
              "72612  2020  WYOMING       WY    WASHAKIE      56043.0  US PRESIDENT   \n",
              "72613  2020  WYOMING       WY      WESTON      56045.0  US PRESIDENT   \n",
              "72614  2020  WYOMING       WY      WESTON      56045.0  US PRESIDENT   \n",
              "72615  2020  WYOMING       WY      WESTON      56045.0  US PRESIDENT   \n",
              "72616  2020  WYOMING       WY      WESTON      56045.0  US PRESIDENT   \n",
              "\n",
              "               candidate        party  candidatevotes  totalvotes   version  \\\n",
              "0                AL GORE     DEMOCRAT            4942       17208  20220315   \n",
              "1         GEORGE W. BUSH   REPUBLICAN           11993       17208  20220315   \n",
              "2            RALPH NADER        GREEN             160       17208  20220315   \n",
              "3                  OTHER        OTHER             113       17208  20220315   \n",
              "4                AL GORE     DEMOCRAT           13997       56480  20220315   \n",
              "...                  ...          ...             ...         ...       ...   \n",
              "72612     DONALD J TRUMP   REPUBLICAN            3245        4032  20220315   \n",
              "72613  JOSEPH R BIDEN JR     DEMOCRAT             360        3560  20220315   \n",
              "72614       JO JORGENSEN  LIBERTARIAN              46        3560  20220315   \n",
              "72615              OTHER        OTHER              47        3560  20220315   \n",
              "72616     DONALD J TRUMP   REPUBLICAN            3107        3560  20220315   \n",
              "\n",
              "        mode  \n",
              "0      TOTAL  \n",
              "1      TOTAL  \n",
              "2      TOTAL  \n",
              "3      TOTAL  \n",
              "4      TOTAL  \n",
              "...      ...  \n",
              "72612  TOTAL  \n",
              "72613  TOTAL  \n",
              "72614  TOTAL  \n",
              "72615  TOTAL  \n",
              "72616  TOTAL  \n",
              "\n",
              "[72617 rows x 12 columns]"
            ],
            "text/html": [
              "\n",
              "  <div id=\"df-0b33eec7-f22f-43e8-940c-8ee223c03c76\" class=\"colab-df-container\">\n",
              "    <div>\n",
              "<style scoped>\n",
              "    .dataframe tbody tr th:only-of-type {\n",
              "        vertical-align: middle;\n",
              "    }\n",
              "\n",
              "    .dataframe tbody tr th {\n",
              "        vertical-align: top;\n",
              "    }\n",
              "\n",
              "    .dataframe thead th {\n",
              "        text-align: right;\n",
              "    }\n",
              "</style>\n",
              "<table border=\"1\" class=\"dataframe\">\n",
              "  <thead>\n",
              "    <tr style=\"text-align: right;\">\n",
              "      <th></th>\n",
              "      <th>year</th>\n",
              "      <th>state</th>\n",
              "      <th>state_po</th>\n",
              "      <th>county_name</th>\n",
              "      <th>county_fips</th>\n",
              "      <th>office</th>\n",
              "      <th>candidate</th>\n",
              "      <th>party</th>\n",
              "      <th>candidatevotes</th>\n",
              "      <th>totalvotes</th>\n",
              "      <th>version</th>\n",
              "      <th>mode</th>\n",
              "    </tr>\n",
              "  </thead>\n",
              "  <tbody>\n",
              "    <tr>\n",
              "      <th>0</th>\n",
              "      <td>2000</td>\n",
              "      <td>ALABAMA</td>\n",
              "      <td>AL</td>\n",
              "      <td>AUTAUGA</td>\n",
              "      <td>1001.0</td>\n",
              "      <td>US PRESIDENT</td>\n",
              "      <td>AL GORE</td>\n",
              "      <td>DEMOCRAT</td>\n",
              "      <td>4942</td>\n",
              "      <td>17208</td>\n",
              "      <td>20220315</td>\n",
              "      <td>TOTAL</td>\n",
              "    </tr>\n",
              "    <tr>\n",
              "      <th>1</th>\n",
              "      <td>2000</td>\n",
              "      <td>ALABAMA</td>\n",
              "      <td>AL</td>\n",
              "      <td>AUTAUGA</td>\n",
              "      <td>1001.0</td>\n",
              "      <td>US PRESIDENT</td>\n",
              "      <td>GEORGE W. BUSH</td>\n",
              "      <td>REPUBLICAN</td>\n",
              "      <td>11993</td>\n",
              "      <td>17208</td>\n",
              "      <td>20220315</td>\n",
              "      <td>TOTAL</td>\n",
              "    </tr>\n",
              "    <tr>\n",
              "      <th>2</th>\n",
              "      <td>2000</td>\n",
              "      <td>ALABAMA</td>\n",
              "      <td>AL</td>\n",
              "      <td>AUTAUGA</td>\n",
              "      <td>1001.0</td>\n",
              "      <td>US PRESIDENT</td>\n",
              "      <td>RALPH NADER</td>\n",
              "      <td>GREEN</td>\n",
              "      <td>160</td>\n",
              "      <td>17208</td>\n",
              "      <td>20220315</td>\n",
              "      <td>TOTAL</td>\n",
              "    </tr>\n",
              "    <tr>\n",
              "      <th>3</th>\n",
              "      <td>2000</td>\n",
              "      <td>ALABAMA</td>\n",
              "      <td>AL</td>\n",
              "      <td>AUTAUGA</td>\n",
              "      <td>1001.0</td>\n",
              "      <td>US PRESIDENT</td>\n",
              "      <td>OTHER</td>\n",
              "      <td>OTHER</td>\n",
              "      <td>113</td>\n",
              "      <td>17208</td>\n",
              "      <td>20220315</td>\n",
              "      <td>TOTAL</td>\n",
              "    </tr>\n",
              "    <tr>\n",
              "      <th>4</th>\n",
              "      <td>2000</td>\n",
              "      <td>ALABAMA</td>\n",
              "      <td>AL</td>\n",
              "      <td>BALDWIN</td>\n",
              "      <td>1003.0</td>\n",
              "      <td>US PRESIDENT</td>\n",
              "      <td>AL GORE</td>\n",
              "      <td>DEMOCRAT</td>\n",
              "      <td>13997</td>\n",
              "      <td>56480</td>\n",
              "      <td>20220315</td>\n",
              "      <td>TOTAL</td>\n",
              "    </tr>\n",
              "    <tr>\n",
              "      <th>...</th>\n",
              "      <td>...</td>\n",
              "      <td>...</td>\n",
              "      <td>...</td>\n",
              "      <td>...</td>\n",
              "      <td>...</td>\n",
              "      <td>...</td>\n",
              "      <td>...</td>\n",
              "      <td>...</td>\n",
              "      <td>...</td>\n",
              "      <td>...</td>\n",
              "      <td>...</td>\n",
              "      <td>...</td>\n",
              "    </tr>\n",
              "    <tr>\n",
              "      <th>72612</th>\n",
              "      <td>2020</td>\n",
              "      <td>WYOMING</td>\n",
              "      <td>WY</td>\n",
              "      <td>WASHAKIE</td>\n",
              "      <td>56043.0</td>\n",
              "      <td>US PRESIDENT</td>\n",
              "      <td>DONALD J TRUMP</td>\n",
              "      <td>REPUBLICAN</td>\n",
              "      <td>3245</td>\n",
              "      <td>4032</td>\n",
              "      <td>20220315</td>\n",
              "      <td>TOTAL</td>\n",
              "    </tr>\n",
              "    <tr>\n",
              "      <th>72613</th>\n",
              "      <td>2020</td>\n",
              "      <td>WYOMING</td>\n",
              "      <td>WY</td>\n",
              "      <td>WESTON</td>\n",
              "      <td>56045.0</td>\n",
              "      <td>US PRESIDENT</td>\n",
              "      <td>JOSEPH R BIDEN JR</td>\n",
              "      <td>DEMOCRAT</td>\n",
              "      <td>360</td>\n",
              "      <td>3560</td>\n",
              "      <td>20220315</td>\n",
              "      <td>TOTAL</td>\n",
              "    </tr>\n",
              "    <tr>\n",
              "      <th>72614</th>\n",
              "      <td>2020</td>\n",
              "      <td>WYOMING</td>\n",
              "      <td>WY</td>\n",
              "      <td>WESTON</td>\n",
              "      <td>56045.0</td>\n",
              "      <td>US PRESIDENT</td>\n",
              "      <td>JO JORGENSEN</td>\n",
              "      <td>LIBERTARIAN</td>\n",
              "      <td>46</td>\n",
              "      <td>3560</td>\n",
              "      <td>20220315</td>\n",
              "      <td>TOTAL</td>\n",
              "    </tr>\n",
              "    <tr>\n",
              "      <th>72615</th>\n",
              "      <td>2020</td>\n",
              "      <td>WYOMING</td>\n",
              "      <td>WY</td>\n",
              "      <td>WESTON</td>\n",
              "      <td>56045.0</td>\n",
              "      <td>US PRESIDENT</td>\n",
              "      <td>OTHER</td>\n",
              "      <td>OTHER</td>\n",
              "      <td>47</td>\n",
              "      <td>3560</td>\n",
              "      <td>20220315</td>\n",
              "      <td>TOTAL</td>\n",
              "    </tr>\n",
              "    <tr>\n",
              "      <th>72616</th>\n",
              "      <td>2020</td>\n",
              "      <td>WYOMING</td>\n",
              "      <td>WY</td>\n",
              "      <td>WESTON</td>\n",
              "      <td>56045.0</td>\n",
              "      <td>US PRESIDENT</td>\n",
              "      <td>DONALD J TRUMP</td>\n",
              "      <td>REPUBLICAN</td>\n",
              "      <td>3107</td>\n",
              "      <td>3560</td>\n",
              "      <td>20220315</td>\n",
              "      <td>TOTAL</td>\n",
              "    </tr>\n",
              "  </tbody>\n",
              "</table>\n",
              "<p>72617 rows × 12 columns</p>\n",
              "</div>\n",
              "    <div class=\"colab-df-buttons\">\n",
              "\n",
              "  <div class=\"colab-df-container\">\n",
              "    <button class=\"colab-df-convert\" onclick=\"convertToInteractive('df-0b33eec7-f22f-43e8-940c-8ee223c03c76')\"\n",
              "            title=\"Convert this dataframe to an interactive table.\"\n",
              "            style=\"display:none;\">\n",
              "\n",
              "  <svg xmlns=\"http://www.w3.org/2000/svg\" height=\"24px\" viewBox=\"0 -960 960 960\">\n",
              "    <path d=\"M120-120v-720h720v720H120Zm60-500h600v-160H180v160Zm220 220h160v-160H400v160Zm0 220h160v-160H400v160ZM180-400h160v-160H180v160Zm440 0h160v-160H620v160ZM180-180h160v-160H180v160Zm440 0h160v-160H620v160Z\"/>\n",
              "  </svg>\n",
              "    </button>\n",
              "\n",
              "  <style>\n",
              "    .colab-df-container {\n",
              "      display:flex;\n",
              "      gap: 12px;\n",
              "    }\n",
              "\n",
              "    .colab-df-convert {\n",
              "      background-color: #E8F0FE;\n",
              "      border: none;\n",
              "      border-radius: 50%;\n",
              "      cursor: pointer;\n",
              "      display: none;\n",
              "      fill: #1967D2;\n",
              "      height: 32px;\n",
              "      padding: 0 0 0 0;\n",
              "      width: 32px;\n",
              "    }\n",
              "\n",
              "    .colab-df-convert:hover {\n",
              "      background-color: #E2EBFA;\n",
              "      box-shadow: 0px 1px 2px rgba(60, 64, 67, 0.3), 0px 1px 3px 1px rgba(60, 64, 67, 0.15);\n",
              "      fill: #174EA6;\n",
              "    }\n",
              "\n",
              "    .colab-df-buttons div {\n",
              "      margin-bottom: 4px;\n",
              "    }\n",
              "\n",
              "    [theme=dark] .colab-df-convert {\n",
              "      background-color: #3B4455;\n",
              "      fill: #D2E3FC;\n",
              "    }\n",
              "\n",
              "    [theme=dark] .colab-df-convert:hover {\n",
              "      background-color: #434B5C;\n",
              "      box-shadow: 0px 1px 3px 1px rgba(0, 0, 0, 0.15);\n",
              "      filter: drop-shadow(0px 1px 2px rgba(0, 0, 0, 0.3));\n",
              "      fill: #FFFFFF;\n",
              "    }\n",
              "  </style>\n",
              "\n",
              "    <script>\n",
              "      const buttonEl =\n",
              "        document.querySelector('#df-0b33eec7-f22f-43e8-940c-8ee223c03c76 button.colab-df-convert');\n",
              "      buttonEl.style.display =\n",
              "        google.colab.kernel.accessAllowed ? 'block' : 'none';\n",
              "\n",
              "      async function convertToInteractive(key) {\n",
              "        const element = document.querySelector('#df-0b33eec7-f22f-43e8-940c-8ee223c03c76');\n",
              "        const dataTable =\n",
              "          await google.colab.kernel.invokeFunction('convertToInteractive',\n",
              "                                                    [key], {});\n",
              "        if (!dataTable) return;\n",
              "\n",
              "        const docLinkHtml = 'Like what you see? Visit the ' +\n",
              "          '<a target=\"_blank\" href=https://colab.research.google.com/notebooks/data_table.ipynb>data table notebook</a>'\n",
              "          + ' to learn more about interactive tables.';\n",
              "        element.innerHTML = '';\n",
              "        dataTable['output_type'] = 'display_data';\n",
              "        await google.colab.output.renderOutput(dataTable, element);\n",
              "        const docLink = document.createElement('div');\n",
              "        docLink.innerHTML = docLinkHtml;\n",
              "        element.appendChild(docLink);\n",
              "      }\n",
              "    </script>\n",
              "  </div>\n",
              "\n",
              "\n",
              "<div id=\"df-51c2765b-3c42-4869-a453-9113513f042e\">\n",
              "  <button class=\"colab-df-quickchart\" onclick=\"quickchart('df-51c2765b-3c42-4869-a453-9113513f042e')\"\n",
              "            title=\"Suggest charts\"\n",
              "            style=\"display:none;\">\n",
              "\n",
              "<svg xmlns=\"http://www.w3.org/2000/svg\" height=\"24px\"viewBox=\"0 0 24 24\"\n",
              "     width=\"24px\">\n",
              "    <g>\n",
              "        <path d=\"M19 3H5c-1.1 0-2 .9-2 2v14c0 1.1.9 2 2 2h14c1.1 0 2-.9 2-2V5c0-1.1-.9-2-2-2zM9 17H7v-7h2v7zm4 0h-2V7h2v10zm4 0h-2v-4h2v4z\"/>\n",
              "    </g>\n",
              "</svg>\n",
              "  </button>\n",
              "\n",
              "<style>\n",
              "  .colab-df-quickchart {\n",
              "      --bg-color: #E8F0FE;\n",
              "      --fill-color: #1967D2;\n",
              "      --hover-bg-color: #E2EBFA;\n",
              "      --hover-fill-color: #174EA6;\n",
              "      --disabled-fill-color: #AAA;\n",
              "      --disabled-bg-color: #DDD;\n",
              "  }\n",
              "\n",
              "  [theme=dark] .colab-df-quickchart {\n",
              "      --bg-color: #3B4455;\n",
              "      --fill-color: #D2E3FC;\n",
              "      --hover-bg-color: #434B5C;\n",
              "      --hover-fill-color: #FFFFFF;\n",
              "      --disabled-bg-color: #3B4455;\n",
              "      --disabled-fill-color: #666;\n",
              "  }\n",
              "\n",
              "  .colab-df-quickchart {\n",
              "    background-color: var(--bg-color);\n",
              "    border: none;\n",
              "    border-radius: 50%;\n",
              "    cursor: pointer;\n",
              "    display: none;\n",
              "    fill: var(--fill-color);\n",
              "    height: 32px;\n",
              "    padding: 0;\n",
              "    width: 32px;\n",
              "  }\n",
              "\n",
              "  .colab-df-quickchart:hover {\n",
              "    background-color: var(--hover-bg-color);\n",
              "    box-shadow: 0 1px 2px rgba(60, 64, 67, 0.3), 0 1px 3px 1px rgba(60, 64, 67, 0.15);\n",
              "    fill: var(--button-hover-fill-color);\n",
              "  }\n",
              "\n",
              "  .colab-df-quickchart-complete:disabled,\n",
              "  .colab-df-quickchart-complete:disabled:hover {\n",
              "    background-color: var(--disabled-bg-color);\n",
              "    fill: var(--disabled-fill-color);\n",
              "    box-shadow: none;\n",
              "  }\n",
              "\n",
              "  .colab-df-spinner {\n",
              "    border: 2px solid var(--fill-color);\n",
              "    border-color: transparent;\n",
              "    border-bottom-color: var(--fill-color);\n",
              "    animation:\n",
              "      spin 1s steps(1) infinite;\n",
              "  }\n",
              "\n",
              "  @keyframes spin {\n",
              "    0% {\n",
              "      border-color: transparent;\n",
              "      border-bottom-color: var(--fill-color);\n",
              "      border-left-color: var(--fill-color);\n",
              "    }\n",
              "    20% {\n",
              "      border-color: transparent;\n",
              "      border-left-color: var(--fill-color);\n",
              "      border-top-color: var(--fill-color);\n",
              "    }\n",
              "    30% {\n",
              "      border-color: transparent;\n",
              "      border-left-color: var(--fill-color);\n",
              "      border-top-color: var(--fill-color);\n",
              "      border-right-color: var(--fill-color);\n",
              "    }\n",
              "    40% {\n",
              "      border-color: transparent;\n",
              "      border-right-color: var(--fill-color);\n",
              "      border-top-color: var(--fill-color);\n",
              "    }\n",
              "    60% {\n",
              "      border-color: transparent;\n",
              "      border-right-color: var(--fill-color);\n",
              "    }\n",
              "    80% {\n",
              "      border-color: transparent;\n",
              "      border-right-color: var(--fill-color);\n",
              "      border-bottom-color: var(--fill-color);\n",
              "    }\n",
              "    90% {\n",
              "      border-color: transparent;\n",
              "      border-bottom-color: var(--fill-color);\n",
              "    }\n",
              "  }\n",
              "</style>\n",
              "\n",
              "  <script>\n",
              "    async function quickchart(key) {\n",
              "      const quickchartButtonEl =\n",
              "        document.querySelector('#' + key + ' button');\n",
              "      quickchartButtonEl.disabled = true;  // To prevent multiple clicks.\n",
              "      quickchartButtonEl.classList.add('colab-df-spinner');\n",
              "      try {\n",
              "        const charts = await google.colab.kernel.invokeFunction(\n",
              "            'suggestCharts', [key], {});\n",
              "      } catch (error) {\n",
              "        console.error('Error during call to suggestCharts:', error);\n",
              "      }\n",
              "      quickchartButtonEl.classList.remove('colab-df-spinner');\n",
              "      quickchartButtonEl.classList.add('colab-df-quickchart-complete');\n",
              "    }\n",
              "    (() => {\n",
              "      let quickchartButtonEl =\n",
              "        document.querySelector('#df-51c2765b-3c42-4869-a453-9113513f042e button');\n",
              "      quickchartButtonEl.style.display =\n",
              "        google.colab.kernel.accessAllowed ? 'block' : 'none';\n",
              "    })();\n",
              "  </script>\n",
              "</div>\n",
              "    </div>\n",
              "  </div>\n"
            ]
          },
          "metadata": {},
          "execution_count": 3
        }
      ]
    },
    {
      "cell_type": "code",
      "source": [
        "Election_data.shape"
      ],
      "metadata": {
        "id": "T9NPEQpyy1Ua",
        "outputId": "7537f0b9-fe9c-4a74-92b8-999ac61a7dd8",
        "colab": {
          "base_uri": "https://localhost:8080/"
        }
      },
      "execution_count": 4,
      "outputs": [
        {
          "output_type": "execute_result",
          "data": {
            "text/plain": [
              "(72617, 12)"
            ]
          },
          "metadata": {},
          "execution_count": 4
        }
      ]
    },
    {
      "cell_type": "markdown",
      "metadata": {
        "id": "2wRukDetxJln"
      },
      "source": [
        "### 2. Data Diversity\n",
        "\n",
        "Use Python to identify how many unique values each column in your data has.  Use Python to identify which column has the greatest number of distinct values (aka the most diversity)?  If your data has a unique identifier (e.g. a person or visit or record ID) then find the column with the next most number of unique values."
      ]
    },
    {
      "cell_type": "code",
      "execution_count": 5,
      "metadata": {
        "id": "4laqtDrLxJln",
        "outputId": "852248b9-96d0-4ca8-e713-631d0a2f1d17",
        "colab": {
          "base_uri": "https://localhost:8080/"
        }
      },
      "outputs": [
        {
          "output_type": "stream",
          "name": "stdout",
          "text": [
            "Unique values in each column:\n",
            " year                  6\n",
            "state                51\n",
            "state_po             51\n",
            "county_name        1892\n",
            "county_fips        3156\n",
            "office                1\n",
            "candidate            13\n",
            "party                 5\n",
            "candidatevotes    19531\n",
            "totalvotes        14834\n",
            "version               1\n",
            "mode                 16\n",
            "dtype: int64\n",
            "column with the most unique values: candidatevotes\n"
          ]
        }
      ],
      "source": [
        "unique_values = Election_data.nunique()\n",
        "print(\"Unique values in each column:\\n\", unique_values)\n",
        "column_with_most_diversity = unique_values.idxmax()\n",
        "print(\"column with the most unique values:\", column_with_most_diversity)"
      ]
    },
    {
      "cell_type": "markdown",
      "metadata": {
        "id": "xMn0ffloxJln"
      },
      "source": [
        "### 3. Data Redundancy\n",
        "\n",
        "Use Python to identify any columns in your data where the value for every row is the same.  For example, if you had a gender column and all the rows said 'M', then you would want to write the code that helped you determine that."
      ]
    },
    {
      "cell_type": "code",
      "execution_count": 6,
      "metadata": {
        "id": "fnpRcPZYxJlo",
        "outputId": "c9871e6d-feb3-418e-ed1f-fa6fbf79da36",
        "colab": {
          "base_uri": "https://localhost:8080/"
        }
      },
      "outputs": [
        {
          "output_type": "stream",
          "name": "stdout",
          "text": [
            "columns where all rows have the same value: ['office', 'version']\n"
          ]
        }
      ],
      "source": [
        "constant_columns = [col for col in Election_data.columns if Election_data[col].nunique() == 1]\n",
        "print (\"columns where all rows have the same value:\", constant_columns)"
      ]
    },
    {
      "cell_type": "markdown",
      "metadata": {
        "id": "gd3oFPJLxJlo"
      },
      "source": [
        "### 4. Range of Values\n",
        "\n",
        "Your data almost certainly has some numeric columns that can be summed or averaged.  Create a histogram that shows the distribution of values for this column."
      ]
    },
    {
      "cell_type": "code",
      "execution_count": 9,
      "metadata": {
        "id": "M2kPIdLaxJlo",
        "outputId": "a4901146-289b-4db9-b364-479b31394960",
        "colab": {
          "base_uri": "https://localhost:8080/",
          "height": 489
        }
      },
      "outputs": [
        {
          "output_type": "execute_result",
          "data": {
            "text/plain": [
              "Text(0, 0.5, 'number of candidates')"
            ]
          },
          "metadata": {},
          "execution_count": 9
        },
        {
          "output_type": "display_data",
          "data": {
            "text/plain": [
              "<Figure size 640x480 with 1 Axes>"
            ],
            "image/png": "[encoded data removed]"
          },
          "metadata": {}
        }
      ],
      "source": [
        "plt.hist(Election_data['candidatevotes'], color = \"skyblue\", edgecolor = \"Black\")\n",
        "\n",
        "# Add a title and labels to the plot\n",
        "plt.title ('Distribution of candidate votes')\n",
        "plt.xlabel ('party')\n",
        "plt.ylabel ('number of candidates')"
      ]
    },
    {
      "cell_type": "markdown",
      "metadata": {
        "id": "zMPgLgP7xJlo"
      },
      "source": [
        "### 5. Discussion\n",
        "\n",
        "Do any additional exploration of this data that you think may be interesting and include your code here.  Then go onto Slack and make a post about what you've observed.  Share your observation.  Share your code, if you like.  Share a screenshot of the data or a chart based on the data.\n",
        "\n",
        "Then comment on at least two other people's observations that they share on Slack.  (Use the reply as thread option in Slack to keep the conversation organized.)"
      ]
    },
    {
      "cell_type": "code",
      "execution_count": 15,
      "metadata": {
        "id": "SkUW3me2xJlp",
        "outputId": "dd23dda3-6a94-4106-8162-92457b842355",
        "colab": {
          "base_uri": "https://localhost:8080/",
          "height": 466
        }
      },
      "outputs": [
        {
          "output_type": "execute_result",
          "data": {
            "text/plain": [
              "<Axes: xlabel='version', ylabel='year'>"
            ]
          },
          "metadata": {},
          "execution_count": 15
        },
        {
          "output_type": "display_data",
          "data": {
            "text/plain": [
              "<Figure size 640x480 with 1 Axes>"
            ],
            "image/png": "[encoded data removed]"
          },
          "metadata": {}
        }
      ],
      "source": [
        "sns.barplot(x= \"version\", y= \"year\", hue = 'party' , data = Election_data)\n"
      ]
    },
    {
      "cell_type": "markdown",
      "metadata": {
        "id": "G2nQeLBVxJlp"
      },
      "source": [
        "\n",
        "\n",
        "---\n",
        "\n",
        "\n",
        "\n",
        "## Submitting Your Work\n",
        "\n",
        "Submit your work as usual."
      ]
    },
    {
      "cell_type": "code",
      "execution_count": null,
      "metadata": {
        "id": "eArDYZQExJlq"
      },
      "outputs": [],
      "source": []
    }
  ],
  "metadata": {
    "celltoolbar": "Create Assignment",
    "kernelspec": {
      "display_name": "Python 3",
      "language": "python",
      "name": "python3"
    },
    "language_info": {
      "codemirror_mode": {
        "name": "ipython",
        "version": 3
      },
      "file_extension": ".py",
      "mimetype": "text/x-python",
      "name": "python",
      "nbconvert_exporter": "python",
      "pygments_lexer": "ipython3",
      "version": "3.6.7"
    },
    "colab": {
      "provenance": []
    }
  },
  "nbformat": 4,
  "nbformat_minor": 0
}