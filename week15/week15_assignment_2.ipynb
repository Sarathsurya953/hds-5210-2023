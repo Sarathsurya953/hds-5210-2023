{
  "cells": [
    {
      "cell_type": "markdown",
      "metadata": {
        "nbgrader": {
          "grade": false,
          "grade_id": "cell-fc1c39d0d6f8b82a",
          "locked": true,
          "schema_version": 1,
          "solution": false
        },
        "id": "XFBI9JXTienw"
      },
      "source": [
        "# Week 15 Programming Assignment\n",
        "\n",
        "The final thing for this semester that we haven't exercised, yet, is working with databases through Python.  In thi final assignment of the semester, you will practice pulling data from either Google Big Query or Snowflake, loading that data into a Pandas data frame, summarizing the data, and then exporting that to an Excel file.\n",
        "\n",
        "**You will need to use your own Google Big Query or Snowflake account to run this notebook, but you should try to make it configurable so anyone with an account in those technologies could run your notebook with minimal changes.**\n",
        "\n",
        "\n",
        "Build a notebook with good comments (either in code or in markdown cells).  Then submit your assignment as usual."
      ]
    },
    {
      "cell_type": "markdown",
      "metadata": {
        "id": "ATV5Y697ieny"
      },
      "source": [
        "### 1. Connect to the data source\n",
        "\n",
        "Follow the examples provided in the [week15 folder of our GitHub repository](https://github.com/paulboal/hds5210-2023/tree/main/week15) to connect your notebook either to Big Query or Snowflake."
      ]
    },
    {
      "cell_type": "code",
      "execution_count": 1,
      "metadata": {
        "id": "qoYgESUpienz",
        "outputId": "c4368afc-14ed-497e-9875-c52dc3a39a59",
        "colab": {
          "base_uri": "https://localhost:8080/"
        }
      },
      "outputs": [
        {
          "output_type": "stream",
          "name": "stdout",
          "text": [
            "Collecting snowflake-connector-python[pandas]\n",
            "  Downloading snowflake_connector_python-3.6.0-cp310-cp310-manylinux_2_17_x86_64.manylinux2014_x86_64.whl (2.5 MB)\n",
            "\u001b[2K     \u001b[90m━━━━━━━━━━━━━━━━━━━━━━━━━━━━━━━━━━━━━━━━\u001b[0m \u001b[32m2.5/2.5 MB\u001b[0m \u001b[31m15.5 MB/s\u001b[0m eta \u001b[36m0:00:00\u001b[0m\n",
            "\u001b[?25hCollecting asn1crypto<2.0.0,>0.24.0 (from snowflake-connector-python[pandas])\n",
            "  Downloading asn1crypto-1.5.1-py2.py3-none-any.whl (105 kB)\n",
            "\u001b[2K     \u001b[90m━━━━━━━━━━━━━━━━━━━━━━━━━━━━━━━━━━━━━━━━\u001b[0m \u001b[32m105.0/105.0 kB\u001b[0m \u001b[31m13.8 MB/s\u001b[0m eta \u001b[36m0:00:00\u001b[0m\n",
            "\u001b[?25hRequirement already satisfied: cffi<2.0.0,>=1.9 in /usr/local/lib/python3.10/dist-packages (from snowflake-connector-python[pandas]) (1.16.0)\n",
            "Requirement already satisfied: cryptography<42.0.0,>=3.1.0 in /usr/local/lib/python3.10/dist-packages (from snowflake-connector-python[pandas]) (41.0.7)\n",
            "Requirement already satisfied: pyOpenSSL<24.0.0,>=16.2.0 in /usr/local/lib/python3.10/dist-packages (from snowflake-connector-python[pandas]) (23.3.0)\n",
            "Requirement already satisfied: pyjwt<3.0.0 in /usr/lib/python3/dist-packages (from snowflake-connector-python[pandas]) (2.3.0)\n",
            "Requirement already satisfied: pytz in /usr/local/lib/python3.10/dist-packages (from snowflake-connector-python[pandas]) (2023.3.post1)\n",
            "Requirement already satisfied: requests<3.0.0 in /usr/local/lib/python3.10/dist-packages (from snowflake-connector-python[pandas]) (2.31.0)\n",
            "Requirement already satisfied: packaging in /usr/local/lib/python3.10/dist-packages (from snowflake-connector-python[pandas]) (23.2)\n",
            "Requirement already satisfied: charset-normalizer<4,>=2 in /usr/local/lib/python3.10/dist-packages (from snowflake-connector-python[pandas]) (3.3.2)\n",
            "Requirement already satisfied: idna<4,>=2.5 in /usr/local/lib/python3.10/dist-packages (from snowflake-connector-python[pandas]) (3.6)\n",
            "Requirement already satisfied: certifi>=2017.4.17 in /usr/local/lib/python3.10/dist-packages (from snowflake-connector-python[pandas]) (2023.11.17)\n",
            "Requirement already satisfied: typing-extensions<5,>=4.3 in /usr/local/lib/python3.10/dist-packages (from snowflake-connector-python[pandas]) (4.5.0)\n",
            "Requirement already satisfied: filelock<4,>=3.5 in /usr/local/lib/python3.10/dist-packages (from snowflake-connector-python[pandas]) (3.13.1)\n",
            "Requirement already satisfied: sortedcontainers>=2.4.0 in /usr/local/lib/python3.10/dist-packages (from snowflake-connector-python[pandas]) (2.4.0)\n",
            "Collecting platformdirs<4.0.0,>=2.6.0 (from snowflake-connector-python[pandas])\n",
            "  Downloading platformdirs-3.11.0-py3-none-any.whl (17 kB)\n",
            "Collecting tomlkit (from snowflake-connector-python[pandas])\n",
            "  Downloading tomlkit-0.12.3-py3-none-any.whl (37 kB)\n",
            "Requirement already satisfied: pandas<2.2.0,>=1.0.0 in /usr/local/lib/python3.10/dist-packages (from snowflake-connector-python[pandas]) (1.5.3)\n",
            "Requirement already satisfied: pyarrow in /usr/local/lib/python3.10/dist-packages (from snowflake-connector-python[pandas]) (10.0.1)\n",
            "Requirement already satisfied: pycparser in /usr/local/lib/python3.10/dist-packages (from cffi<2.0.0,>=1.9->snowflake-connector-python[pandas]) (2.21)\n",
            "Requirement already satisfied: python-dateutil>=2.8.1 in /usr/local/lib/python3.10/dist-packages (from pandas<2.2.0,>=1.0.0->snowflake-connector-python[pandas]) (2.8.2)\n",
            "Requirement already satisfied: numpy>=1.21.0 in /usr/local/lib/python3.10/dist-packages (from pandas<2.2.0,>=1.0.0->snowflake-connector-python[pandas]) (1.23.5)\n",
            "Requirement already satisfied: urllib3<3,>=1.21.1 in /usr/local/lib/python3.10/dist-packages (from requests<3.0.0->snowflake-connector-python[pandas]) (2.0.7)\n",
            "Requirement already satisfied: six>=1.5 in /usr/local/lib/python3.10/dist-packages (from python-dateutil>=2.8.1->pandas<2.2.0,>=1.0.0->snowflake-connector-python[pandas]) (1.16.0)\n",
            "Installing collected packages: asn1crypto, tomlkit, platformdirs, snowflake-connector-python\n",
            "  Attempting uninstall: platformdirs\n",
            "    Found existing installation: platformdirs 4.1.0\n",
            "    Uninstalling platformdirs-4.1.0:\n",
            "      Successfully uninstalled platformdirs-4.1.0\n",
            "Successfully installed asn1crypto-1.5.1 platformdirs-3.11.0 snowflake-connector-python-3.6.0 tomlkit-0.12.3\n"
          ]
        }
      ],
      "source": [
        "!pip install \"snowflake-connector-python[pandas]\""
      ]
    },
    {
      "cell_type": "code",
      "source": [
        "import pandas as pd\n",
        "# Get user password\n",
        "import getpass\n",
        "\n",
        "pwd = getpass.getpass('Enter password')"
      ],
      "metadata": {
        "id": "tI_gLDzMAcqb",
        "outputId": "3342dd18-4374-49a0-9cf4-4a4f135ef4b9",
        "colab": {
          "base_uri": "https://localhost:8080/"
        }
      },
      "execution_count": 2,
      "outputs": [
        {
          "name": "stdout",
          "output_type": "stream",
          "text": [
            "Enter password··········\n"
          ]
        }
      ]
    },
    {
      "cell_type": "code",
      "source": [
        "#Create connection to snowflake\n",
        "import snowflake.connector\n",
        "\n",
        "conn = snowflake.connector.connect(\n",
        "    user = 'sarathsurya',\n",
        "    password = str(pwd),\n",
        "    account = 'VSYRCEW-CM25063'\n",
        ")"
      ],
      "metadata": {
        "id": "wHrpnxOFA-jv"
      },
      "execution_count": 4,
      "outputs": []
    },
    {
      "cell_type": "markdown",
      "metadata": {
        "id": "eFREep1Qienz"
      },
      "source": [
        "### 2. Query some data\n",
        "\n",
        "Assuming the source database has some data in it or that you can load some data into it from any source, query it.  Then, read that data into a Pandas dataframe."
      ]
    },
    {
      "cell_type": "code",
      "execution_count": 7,
      "metadata": {
        "id": "Xr2s0Kreien0"
      },
      "outputs": [],
      "source": [
        "sql = 'select * from HOSPITAL_CLAIMS__REMITS_DATA.ISTG. DIAGNOSISDETAIL'"
      ]
    },
    {
      "cell_type": "code",
      "source": [
        "res = conn.cursor().execute(sql).fetchall()"
      ],
      "metadata": {
        "id": "eDB-KtngBvu1"
      },
      "execution_count": 8,
      "outputs": []
    },
    {
      "cell_type": "code",
      "source": [
        "hospitalclaims_data = pd.read_sql(sql,conn)\n",
        "hospitalclaims_data"
      ],
      "metadata": {
        "id": "ZCkn_yLtB-dx",
        "outputId": "62ecd63b-4d22-4f13-db68-3ab4472b041e",
        "colab": {
          "base_uri": "https://localhost:8080/",
          "height": 478
        }
      },
      "execution_count": 9,
      "outputs": [
        {
          "output_type": "stream",
          "name": "stderr",
          "text": [
            "<ipython-input-9-d3c7f636c9ce>:1: UserWarning: pandas only supports SQLAlchemy connectable (engine/connection) or database string URI or sqlite3 DBAPI2 connection. Other DBAPI2 objects are not tested. Please consider using SQLAlchemy.\n",
            "  hospitalclaims_data = pd.read_sql(sql,conn)\n"
          ]
        },
        {
          "output_type": "execute_result",
          "data": {
            "text/plain": [
              "      SITEID   CLAIMID  PRIMARYCLAIMID  SEQUENCE DIAGCODE\n",
              "0     190031  16996877        16996877         1     Z515\n",
              "1     190031  16996877        16996877         2     C439\n",
              "2     650051  15426362        15426362         1     Z452\n",
              "3     650051  15426362        15426362         2     C439\n",
              "4     650051  15164221        15164221         1     Z452\n",
              "...      ...       ...             ...       ...      ...\n",
              "2068  470020  11428301        11428301         1     C439\n",
              "2069  520360   1154254         1154254         4     J029\n",
              "2070  520360   1154254         1154254         1     U071\n",
              "2071  520360   1154254         1154254         3     R519\n",
              "2072  520360   1154254         1154254         2    R0981\n",
              "\n",
              "[2073 rows x 5 columns]"
            ],
            "text/html": [
              "\n",
              "  <div id=\"df-16679142-cbdf-4bbf-9b46-8f01c0e7242a\" class=\"colab-df-container\">\n",
              "    <div>\n",
              "<style scoped>\n",
              "    .dataframe tbody tr th:only-of-type {\n",
              "        vertical-align: middle;\n",
              "    }\n",
              "\n",
              "    .dataframe tbody tr th {\n",
              "        vertical-align: top;\n",
              "    }\n",
              "\n",
              "    .dataframe thead th {\n",
              "        text-align: right;\n",
              "    }\n",
              "</style>\n",
              "<table border=\"1\" class=\"dataframe\">\n",
              "  <thead>\n",
              "    <tr style=\"text-align: right;\">\n",
              "      <th></th>\n",
              "      <th>SITEID</th>\n",
              "      <th>CLAIMID</th>\n",
              "      <th>PRIMARYCLAIMID</th>\n",
              "      <th>SEQUENCE</th>\n",
              "      <th>DIAGCODE</th>\n",
              "    </tr>\n",
              "  </thead>\n",
              "  <tbody>\n",
              "    <tr>\n",
              "      <th>0</th>\n",
              "      <td>190031</td>\n",
              "      <td>16996877</td>\n",
              "      <td>16996877</td>\n",
              "      <td>1</td>\n",
              "      <td>Z515</td>\n",
              "    </tr>\n",
              "    <tr>\n",
              "      <th>1</th>\n",
              "      <td>190031</td>\n",
              "      <td>16996877</td>\n",
              "      <td>16996877</td>\n",
              "      <td>2</td>\n",
              "      <td>C439</td>\n",
              "    </tr>\n",
              "    <tr>\n",
              "      <th>2</th>\n",
              "      <td>650051</td>\n",
              "      <td>15426362</td>\n",
              "      <td>15426362</td>\n",
              "      <td>1</td>\n",
              "      <td>Z452</td>\n",
              "    </tr>\n",
              "    <tr>\n",
              "      <th>3</th>\n",
              "      <td>650051</td>\n",
              "      <td>15426362</td>\n",
              "      <td>15426362</td>\n",
              "      <td>2</td>\n",
              "      <td>C439</td>\n",
              "    </tr>\n",
              "    <tr>\n",
              "      <th>4</th>\n",
              "      <td>650051</td>\n",
              "      <td>15164221</td>\n",
              "      <td>15164221</td>\n",
              "      <td>1</td>\n",
              "      <td>Z452</td>\n",
              "    </tr>\n",
              "    <tr>\n",
              "      <th>...</th>\n",
              "      <td>...</td>\n",
              "      <td>...</td>\n",
              "      <td>...</td>\n",
              "      <td>...</td>\n",
              "      <td>...</td>\n",
              "    </tr>\n",
              "    <tr>\n",
              "      <th>2068</th>\n",
              "      <td>470020</td>\n",
              "      <td>11428301</td>\n",
              "      <td>11428301</td>\n",
              "      <td>1</td>\n",
              "      <td>C439</td>\n",
              "    </tr>\n",
              "    <tr>\n",
              "      <th>2069</th>\n",
              "      <td>520360</td>\n",
              "      <td>1154254</td>\n",
              "      <td>1154254</td>\n",
              "      <td>4</td>\n",
              "      <td>J029</td>\n",
              "    </tr>\n",
              "    <tr>\n",
              "      <th>2070</th>\n",
              "      <td>520360</td>\n",
              "      <td>1154254</td>\n",
              "      <td>1154254</td>\n",
              "      <td>1</td>\n",
              "      <td>U071</td>\n",
              "    </tr>\n",
              "    <tr>\n",
              "      <th>2071</th>\n",
              "      <td>520360</td>\n",
              "      <td>1154254</td>\n",
              "      <td>1154254</td>\n",
              "      <td>3</td>\n",
              "      <td>R519</td>\n",
              "    </tr>\n",
              "    <tr>\n",
              "      <th>2072</th>\n",
              "      <td>520360</td>\n",
              "      <td>1154254</td>\n",
              "      <td>1154254</td>\n",
              "      <td>2</td>\n",
              "      <td>R0981</td>\n",
              "    </tr>\n",
              "  </tbody>\n",
              "</table>\n",
              "<p>2073 rows × 5 columns</p>\n",
              "</div>\n",
              "    <div class=\"colab-df-buttons\">\n",
              "\n",
              "  <div class=\"colab-df-container\">\n",
              "    <button class=\"colab-df-convert\" onclick=\"convertToInteractive('df-16679142-cbdf-4bbf-9b46-8f01c0e7242a')\"\n",
              "            title=\"Convert this dataframe to an interactive table.\"\n",
              "            style=\"display:none;\">\n",
              "\n",
              "  <svg xmlns=\"http://www.w3.org/2000/svg\" height=\"24px\" viewBox=\"0 -960 960 960\">\n",
              "    <path d=\"M120-120v-720h720v720H120Zm60-500h600v-160H180v160Zm220 220h160v-160H400v160Zm0 220h160v-160H400v160ZM180-400h160v-160H180v160Zm440 0h160v-160H620v160ZM180-180h160v-160H180v160Zm440 0h160v-160H620v160Z\"/>\n",
              "  </svg>\n",
              "    </button>\n",
              "\n",
              "  <style>\n",
              "    .colab-df-container {\n",
              "      display:flex;\n",
              "      gap: 12px;\n",
              "    }\n",
              "\n",
              "    .colab-df-convert {\n",
              "      background-color: #E8F0FE;\n",
              "      border: none;\n",
              "      border-radius: 50%;\n",
              "      cursor: pointer;\n",
              "      display: none;\n",
              "      fill: #1967D2;\n",
              "      height: 32px;\n",
              "      padding: 0 0 0 0;\n",
              "      width: 32px;\n",
              "    }\n",
              "\n",
              "    .colab-df-convert:hover {\n",
              "      background-color: #E2EBFA;\n",
              "      box-shadow: 0px 1px 2px rgba(60, 64, 67, 0.3), 0px 1px 3px 1px rgba(60, 64, 67, 0.15);\n",
              "      fill: #174EA6;\n",
              "    }\n",
              "\n",
              "    .colab-df-buttons div {\n",
              "      margin-bottom: 4px;\n",
              "    }\n",
              "\n",
              "    [theme=dark] .colab-df-convert {\n",
              "      background-color: #3B4455;\n",
              "      fill: #D2E3FC;\n",
              "    }\n",
              "\n",
              "    [theme=dark] .colab-df-convert:hover {\n",
              "      background-color: #434B5C;\n",
              "      box-shadow: 0px 1px 3px 1px rgba(0, 0, 0, 0.15);\n",
              "      filter: drop-shadow(0px 1px 2px rgba(0, 0, 0, 0.3));\n",
              "      fill: #FFFFFF;\n",
              "    }\n",
              "  </style>\n",
              "\n",
              "    <script>\n",
              "      const buttonEl =\n",
              "        document.querySelector('#df-16679142-cbdf-4bbf-9b46-8f01c0e7242a button.colab-df-convert');\n",
              "      buttonEl.style.display =\n",
              "        google.colab.kernel.accessAllowed ? 'block' : 'none';\n",
              "\n",
              "      async function convertToInteractive(key) {\n",
              "        const element = document.querySelector('#df-16679142-cbdf-4bbf-9b46-8f01c0e7242a');\n",
              "        const dataTable =\n",
              "          await google.colab.kernel.invokeFunction('convertToInteractive',\n",
              "                                                    [key], {});\n",
              "        if (!dataTable) return;\n",
              "\n",
              "        const docLinkHtml = 'Like what you see? Visit the ' +\n",
              "          '<a target=\"_blank\" href=https://colab.research.google.com/notebooks/data_table.ipynb>data table notebook</a>'\n",
              "          + ' to learn more about interactive tables.';\n",
              "        element.innerHTML = '';\n",
              "        dataTable['output_type'] = 'display_data';\n",
              "        await google.colab.output.renderOutput(dataTable, element);\n",
              "        const docLink = document.createElement('div');\n",
              "        docLink.innerHTML = docLinkHtml;\n",
              "        element.appendChild(docLink);\n",
              "      }\n",
              "    </script>\n",
              "  </div>\n",
              "\n",
              "\n",
              "<div id=\"df-a85de4af-6433-4bdb-a682-33a2b5ad958d\">\n",
              "  <button class=\"colab-df-quickchart\" onclick=\"quickchart('df-a85de4af-6433-4bdb-a682-33a2b5ad958d')\"\n",
              "            title=\"Suggest charts\"\n",
              "            style=\"display:none;\">\n",
              "\n",
              "<svg xmlns=\"http://www.w3.org/2000/svg\" height=\"24px\"viewBox=\"0 0 24 24\"\n",
              "     width=\"24px\">\n",
              "    <g>\n",
              "        <path d=\"M19 3H5c-1.1 0-2 .9-2 2v14c0 1.1.9 2 2 2h14c1.1 0 2-.9 2-2V5c0-1.1-.9-2-2-2zM9 17H7v-7h2v7zm4 0h-2V7h2v10zm4 0h-2v-4h2v4z\"/>\n",
              "    </g>\n",
              "</svg>\n",
              "  </button>\n",
              "\n",
              "<style>\n",
              "  .colab-df-quickchart {\n",
              "      --bg-color: #E8F0FE;\n",
              "      --fill-color: #1967D2;\n",
              "      --hover-bg-color: #E2EBFA;\n",
              "      --hover-fill-color: #174EA6;\n",
              "      --disabled-fill-color: #AAA;\n",
              "      --disabled-bg-color: #DDD;\n",
              "  }\n",
              "\n",
              "  [theme=dark] .colab-df-quickchart {\n",
              "      --bg-color: #3B4455;\n",
              "      --fill-color: #D2E3FC;\n",
              "      --hover-bg-color: #434B5C;\n",
              "      --hover-fill-color: #FFFFFF;\n",
              "      --disabled-bg-color: #3B4455;\n",
              "      --disabled-fill-color: #666;\n",
              "  }\n",
              "\n",
              "  .colab-df-quickchart {\n",
              "    background-color: var(--bg-color);\n",
              "    border: none;\n",
              "    border-radius: 50%;\n",
              "    cursor: pointer;\n",
              "    display: none;\n",
              "    fill: var(--fill-color);\n",
              "    height: 32px;\n",
              "    padding: 0;\n",
              "    width: 32px;\n",
              "  }\n",
              "\n",
              "  .colab-df-quickchart:hover {\n",
              "    background-color: var(--hover-bg-color);\n",
              "    box-shadow: 0 1px 2px rgba(60, 64, 67, 0.3), 0 1px 3px 1px rgba(60, 64, 67, 0.15);\n",
              "    fill: var(--button-hover-fill-color);\n",
              "  }\n",
              "\n",
              "  .colab-df-quickchart-complete:disabled,\n",
              "  .colab-df-quickchart-complete:disabled:hover {\n",
              "    background-color: var(--disabled-bg-color);\n",
              "    fill: var(--disabled-fill-color);\n",
              "    box-shadow: none;\n",
              "  }\n",
              "\n",
              "  .colab-df-spinner {\n",
              "    border: 2px solid var(--fill-color);\n",
              "    border-color: transparent;\n",
              "    border-bottom-color: var(--fill-color);\n",
              "    animation:\n",
              "      spin 1s steps(1) infinite;\n",
              "  }\n",
              "\n",
              "  @keyframes spin {\n",
              "    0% {\n",
              "      border-color: transparent;\n",
              "      border-bottom-color: var(--fill-color);\n",
              "      border-left-color: var(--fill-color);\n",
              "    }\n",
              "    20% {\n",
              "      border-color: transparent;\n",
              "      border-left-color: var(--fill-color);\n",
              "      border-top-color: var(--fill-color);\n",
              "    }\n",
              "    30% {\n",
              "      border-color: transparent;\n",
              "      border-left-color: var(--fill-color);\n",
              "      border-top-color: var(--fill-color);\n",
              "      border-right-color: var(--fill-color);\n",
              "    }\n",
              "    40% {\n",
              "      border-color: transparent;\n",
              "      border-right-color: var(--fill-color);\n",
              "      border-top-color: var(--fill-color);\n",
              "    }\n",
              "    60% {\n",
              "      border-color: transparent;\n",
              "      border-right-color: var(--fill-color);\n",
              "    }\n",
              "    80% {\n",
              "      border-color: transparent;\n",
              "      border-right-color: var(--fill-color);\n",
              "      border-bottom-color: var(--fill-color);\n",
              "    }\n",
              "    90% {\n",
              "      border-color: transparent;\n",
              "      border-bottom-color: var(--fill-color);\n",
              "    }\n",
              "  }\n",
              "</style>\n",
              "\n",
              "  <script>\n",
              "    async function quickchart(key) {\n",
              "      const quickchartButtonEl =\n",
              "        document.querySelector('#' + key + ' button');\n",
              "      quickchartButtonEl.disabled = true;  // To prevent multiple clicks.\n",
              "      quickchartButtonEl.classList.add('colab-df-spinner');\n",
              "      try {\n",
              "        const charts = await google.colab.kernel.invokeFunction(\n",
              "            'suggestCharts', [key], {});\n",
              "      } catch (error) {\n",
              "        console.error('Error during call to suggestCharts:', error);\n",
              "      }\n",
              "      quickchartButtonEl.classList.remove('colab-df-spinner');\n",
              "      quickchartButtonEl.classList.add('colab-df-quickchart-complete');\n",
              "    }\n",
              "    (() => {\n",
              "      let quickchartButtonEl =\n",
              "        document.querySelector('#df-a85de4af-6433-4bdb-a682-33a2b5ad958d button');\n",
              "      quickchartButtonEl.style.display =\n",
              "        google.colab.kernel.accessAllowed ? 'block' : 'none';\n",
              "    })();\n",
              "  </script>\n",
              "</div>\n",
              "    </div>\n",
              "  </div>\n"
            ]
          },
          "metadata": {},
          "execution_count": 9
        }
      ]
    },
    {
      "cell_type": "markdown",
      "metadata": {
        "id": "jbuh_Y5Kien0"
      },
      "source": [
        "### 3. Aggregate your data frame\n",
        "\n",
        "Do some kind of aggregation on your data frame.  Something that makes sense and has some groups to it.  Don't just sum up one column for the entire data frame.  Be more creative than that."
      ]
    },
    {
      "cell_type": "code",
      "source": [
        "df = hospitalclaims_data"
      ],
      "metadata": {
        "id": "LeQamWWQDhB9"
      },
      "execution_count": 10,
      "outputs": []
    },
    {
      "cell_type": "code",
      "execution_count": 11,
      "metadata": {
        "id": "lD6o4gacien0",
        "outputId": "7c95d808-3c47-49e2-907a-a6a57ceb1875",
        "colab": {
          "base_uri": "https://localhost:8080/"
        }
      },
      "outputs": [
        {
          "output_type": "stream",
          "name": "stdout",
          "text": [
            "       SITEID  unique_claims\n",
            "0        9002             14\n",
            "1      140110             16\n",
            "2      140170              1\n",
            "3      170010              4\n",
            "4      180031              2\n",
            "5      180091              4\n",
            "6      190031              2\n",
            "7      250010              3\n",
            "8      270113              3\n",
            "9      270114              2\n",
            "10     270115              3\n",
            "11     270230              1\n",
            "12     270240              2\n",
            "13     290050              7\n",
            "14     290080              4\n",
            "15     300050              4\n",
            "16     300070              2\n",
            "17     300150              1\n",
            "18     310020              2\n",
            "19     310030              1\n",
            "20     330050              2\n",
            "21     360010              1\n",
            "22     380001              5\n",
            "23     380040              2\n",
            "24     380060              4\n",
            "25     390150              2\n",
            "26     400020              1\n",
            "27     440070              1\n",
            "28     440090              1\n",
            "29     450060              2\n",
            "30     470020              1\n",
            "31     470050              8\n",
            "32     470090              2\n",
            "33     470110              1\n",
            "34     470140              1\n",
            "35     470180              2\n",
            "36     470231              4\n",
            "37     470240              2\n",
            "38     470260              1\n",
            "39     490031             15\n",
            "40     490121              8\n",
            "41     490131             13\n",
            "42     510000              3\n",
            "43     510030              1\n",
            "44     520360              1\n",
            "45     520490              3\n",
            "46     550041              3\n",
            "47     550071              6\n",
            "48     550090              1\n",
            "49     565000              2\n",
            "50     570011              1\n",
            "51     580050              2\n",
            "52     650050             25\n",
            "53     650051             12\n",
            "54     700010              1\n",
            "55  111560020              1\n"
          ]
        }
      ],
      "source": [
        "unique_claims_per_site = df.groupby('SITEID')['CLAIMID'].nunique().reset_index(name='unique_claims')\n",
        "print(unique_claims_per_site)"
      ]
    },
    {
      "cell_type": "markdown",
      "metadata": {
        "id": "Mj-bw0jVien0"
      },
      "source": [
        "### 4. Write to Excel\n",
        "\n",
        "Use Pandas functions to write your summarized data out to a local Excel file."
      ]
    },
    {
      "cell_type": "code",
      "execution_count": 12,
      "metadata": {
        "id": "IPkwew79ien0"
      },
      "outputs": [],
      "source": [
        "df.to_excel('df.xlsx', index=False)"
      ]
    },
    {
      "cell_type": "code",
      "execution_count": null,
      "metadata": {
        "id": "urgf_oneien0"
      },
      "outputs": [],
      "source": []
    },
    {
      "cell_type": "markdown",
      "metadata": {
        "id": "4vhtM3kRien0"
      },
      "source": [
        "---\n",
        "\n",
        "## Submitting Your Work\n",
        "\n",
        "Submit your work as usual"
      ]
    }
  ],
  "metadata": {
    "kernelspec": {
      "display_name": "Python 3",
      "language": "python",
      "name": "python3"
    },
    "language_info": {
      "codemirror_mode": {
        "name": "ipython",
        "version": 3
      },
      "file_extension": ".py",
      "mimetype": "text/x-python",
      "name": "python",
      "nbconvert_exporter": "python",
      "pygments_lexer": "ipython3",
      "version": "3.6.7"
    },
    "colab": {
      "provenance": []
    }
  },
  "nbformat": 4,
  "nbformat_minor": 0
}